{
 "cells": [
  {
   "cell_type": "markdown",
   "metadata": {
    "collapsed": true,
    "pycharm": {
     "name": "#%% md\n"
    }
   },
   "source": [
    "## Imports"
   ]
  },
  {
   "cell_type": "code",
   "execution_count": 1,
   "metadata": {
    "pycharm": {
     "is_executing": false,
     "name": "#%%\n"
    }
   },
   "outputs": [],
   "source": [
    "import numpy as np\n",
    "import matplotlib.pyplot as plt\n",
    "import torch\n",
    "from torch.autograd import Variable\n",
    "import os\n",
    "import niwidgets as nw\n",
    "import nibabel as nib\n",
    "\n",
    "from dvn.dvn_fcn import DeepVesselNetFCN\n",
    "from dvn.solver import Solver\n",
    "from dvn.data_utils import MRAData\n",
    "from dvn import misc as ms\n",
    "from dvn import patchify_unpatchify as pu\n",
    "\n",
    "torch.set_default_tensor_type('torch.FloatTensor')\n",
    "# set up default cuda device\n",
    "device = torch.device(\"cuda:0\" if torch.cuda.is_available() else \"cpu\")\n",
    "# device = torch.device(\"cpu\")\n",
    "\n",
    "# for auto-reloading external modules\n",
    "# see http://stackoverflow.com/questions/1907993/autoreload-of-modules-in-ipython\n",
    "%load_ext autoreload\n",
    "%autoreload 2\n",
    "\n",
    "import warnings\n",
    "warnings.filterwarnings(action='ignore')"
   ]
  },
  {
   "cell_type": "markdown",
   "metadata": {
    "pycharm": {
     "name": "#%% md\n"
    }
   },
   "source": [
    "## MRA dataset\n",
    "\n",
    "Test obtained model with MRA data by using overlapping patches and then concatenating and unpatchfying"
   ]
  },
  {
   "cell_type": "code",
   "execution_count": 2,
   "metadata": {
    "pycharm": {
     "is_executing": false,
     "name": "#%%\n"
    }
   },
   "outputs": [
    {
     "name": "stdout",
     "output_type": "stream",
     "text": [
      "Done\n"
     ]
    }
   ],
   "source": [
    "patch_size = 128\n",
    "\n",
    "# Load all volumes\n",
    "all_patients = MRAData(root_path=\"./mra/\", patch_size=patch_size)\n",
    "\n",
    "# Split into train and validation (leave some for test later)\n",
    "train_mra = all_patients[0:30]\n",
    "train_loader = torch.utils.data.DataLoader(train_mra, batch_size=2, shuffle=True, num_workers=1)\n",
    "\n",
    "val_mra = all_patients[30:44]\n",
    "val_loader = torch.utils.data.DataLoader(val_mra, batch_size=2, shuffle=True, num_workers=1)\n",
    "print(\"Done\")"
   ]
  },
  {
   "cell_type": "markdown",
   "metadata": {},
   "source": [
    "### Check data"
   ]
  },
  {
   "cell_type": "code",
   "execution_count": 3,
   "metadata": {},
   "outputs": [
    {
     "name": "stdout",
     "output_type": "stream",
     "text": [
      "Train size: 30\n",
      "Validation size: 14\n",
      "Img size:  torch.Size([1, 128, 128, 128])\n",
      "Segmentation size:  torch.Size([128, 128, 128])\n"
     ]
    }
   ],
   "source": [
    "print(\"Train size: %i\" % len(train_mra))\n",
    "print(\"Validation size: %i\" % len(val_mra))\n",
    "print(\"Img size: \", train_mra[0][0].size())\n",
    "print(\"Segmentation size: \", train_mra[0][1].size())"
   ]
  },
  {
   "cell_type": "markdown",
   "metadata": {},
   "source": [
    "## Load model and train"
   ]
  },
  {
   "cell_type": "code",
   "execution_count": 4,
   "metadata": {},
   "outputs": [
    {
     "name": "stdout",
     "output_type": "stream",
     "text": [
      "START TRAIN\n",
      "[Iteration 5/750] TRAIN loss: -0.265\n",
      "[Iteration 10/750] TRAIN loss: -1.376\n",
      "[Iteration 15/750] TRAIN loss: -0.006\n",
      "[Epoch 1/50] TRAIN acc/loss/dice: 0.985/-0.006/0.496\n",
      "[Epoch 1/50] VAL   acc/loss/dice: 0.460/0.000/0.496\n",
      "[Iteration 20/750] TRAIN loss: 0.000\n",
      "[Iteration 25/750] TRAIN loss: -0.127\n",
      "[Iteration 30/750] TRAIN loss: -2.136\n",
      "[Epoch 2/50] TRAIN acc/loss/dice: 0.938/-2.136/0.484\n",
      "[Epoch 2/50] VAL   acc/loss/dice: 0.880/0.000/0.484\n",
      "[Iteration 35/750] TRAIN loss: 0.000\n",
      "[Iteration 40/750] TRAIN loss: -2.092\n",
      "[Iteration 45/750] TRAIN loss: -0.201\n",
      "[Epoch 3/50] TRAIN acc/loss/dice: 0.923/-0.201/0.498\n",
      "[Epoch 3/50] VAL   acc/loss/dice: 0.878/0.000/0.498\n",
      "[Iteration 50/750] TRAIN loss: -0.224\n",
      "[Iteration 55/750] TRAIN loss: 0.000\n",
      "[Iteration 60/750] TRAIN loss: -2.133\n",
      "[Epoch 4/50] TRAIN acc/loss/dice: 0.970/-2.133/0.663\n",
      "[Epoch 4/50] VAL   acc/loss/dice: 0.744/0.000/0.663\n",
      "[Iteration 65/750] TRAIN loss: -0.178\n",
      "[Iteration 70/750] TRAIN loss: -1.988\n",
      "[Iteration 75/750] TRAIN loss: -0.225\n",
      "[Epoch 5/50] TRAIN acc/loss/dice: 0.956/-0.225/0.489\n",
      "[Epoch 5/50] VAL   acc/loss/dice: 0.679/0.000/0.489\n",
      "[Iteration 80/750] TRAIN loss: -0.225\n",
      "[Iteration 85/750] TRAIN loss: -2.157\n",
      "[Iteration 90/750] TRAIN loss: -0.010\n",
      "[Epoch 6/50] TRAIN acc/loss/dice: 0.971/-0.010/0.494\n",
      "[Epoch 6/50] VAL   acc/loss/dice: 0.674/0.000/0.494\n",
      "[Iteration 95/750] TRAIN loss: -0.170\n",
      "[Iteration 100/750] TRAIN loss: 0.000\n",
      "[Iteration 105/750] TRAIN loss: -2.206\n",
      "[Epoch 7/50] TRAIN acc/loss/dice: 0.952/-2.206/0.506\n",
      "[Epoch 7/50] VAL   acc/loss/dice: 0.666/0.000/0.506\n",
      "[Iteration 110/750] TRAIN loss: -0.172\n",
      "[Iteration 115/750] TRAIN loss: -0.228\n",
      "[Iteration 120/750] TRAIN loss: -1.996\n",
      "[Epoch 8/50] TRAIN acc/loss/dice: 0.935/-1.996/0.653\n",
      "[Epoch 8/50] VAL   acc/loss/dice: 0.782/0.000/0.653\n",
      "[Iteration 125/750] TRAIN loss: -0.228\n",
      "[Iteration 130/750] TRAIN loss: -1.984\n",
      "[Iteration 135/750] TRAIN loss: -0.169\n",
      "[Epoch 9/50] TRAIN acc/loss/dice: 0.921/-0.169/0.479\n",
      "[Epoch 9/50] VAL   acc/loss/dice: 0.809/0.000/0.479\n",
      "[Iteration 140/750] TRAIN loss: -2.175\n",
      "[Iteration 145/750] TRAIN loss: -0.226\n",
      "[Iteration 150/750] TRAIN loss: 0.000\n",
      "[Epoch 10/50] TRAIN acc/loss/dice: 0.888/0.000/0.469\n",
      "[Epoch 10/50] VAL   acc/loss/dice: 0.786/0.000/0.469\n",
      "[Iteration 155/750] TRAIN loss: -0.010\n",
      "[Iteration 160/750] TRAIN loss: -2.160\n",
      "[Iteration 165/750] TRAIN loss: -0.218\n",
      "[Epoch 11/50] TRAIN acc/loss/dice: 0.973/-0.218/0.517\n",
      "[Epoch 11/50] VAL   acc/loss/dice: 0.639/0.000/0.517\n",
      "[Iteration 170/750] TRAIN loss: -1.952\n",
      "[Iteration 175/750] TRAIN loss: -0.199\n",
      "[Iteration 180/750] TRAIN loss: -0.171\n",
      "[Epoch 12/50] TRAIN acc/loss/dice: 0.954/-0.171/0.509\n",
      "[Epoch 12/50] VAL   acc/loss/dice: 0.785/0.000/0.509\n",
      "[Iteration 185/750] TRAIN loss: -1.991\n",
      "[Iteration 190/750] TRAIN loss: -0.171\n",
      "[Iteration 195/750] TRAIN loss: -0.239\n",
      "[Epoch 13/50] TRAIN acc/loss/dice: 0.956/-0.239/0.490\n",
      "[Epoch 13/50] VAL   acc/loss/dice: 0.806/0.000/0.490\n",
      "[Iteration 200/750] TRAIN loss: -0.011\n",
      "[Iteration 205/750] TRAIN loss: -2.400\n",
      "[Iteration 210/750] TRAIN loss: 0.000\n",
      "[Epoch 14/50] TRAIN acc/loss/dice: 0.960/0.000/0.490\n",
      "[Epoch 14/50] VAL   acc/loss/dice: 0.768/0.000/0.490\n",
      "[Iteration 215/750] TRAIN loss: -0.230\n",
      "[Iteration 220/750] TRAIN loss: -2.006\n",
      "[Iteration 225/750] TRAIN loss: -0.183\n",
      "[Epoch 15/50] TRAIN acc/loss/dice: 0.959/-0.183/0.490\n",
      "[Epoch 15/50] VAL   acc/loss/dice: 0.756/0.000/0.490\n",
      "[Iteration 230/750] TRAIN loss: -2.010\n",
      "[Iteration 235/750] TRAIN loss: -0.174\n",
      "[Iteration 240/750] TRAIN loss: -0.237\n",
      "[Epoch 16/50] TRAIN acc/loss/dice: 0.976/-0.237/0.497\n",
      "[Epoch 16/50] VAL   acc/loss/dice: 0.789/0.000/0.497\n",
      "[Iteration 245/750] TRAIN loss: -0.230\n",
      "[Iteration 250/750] TRAIN loss: -0.011\n",
      "[Iteration 255/750] TRAIN loss: -2.123\n",
      "[Epoch 17/50] TRAIN acc/loss/dice: 0.971/-2.123/0.493\n",
      "[Epoch 17/50] VAL   acc/loss/dice: 0.576/0.000/0.493\n",
      "[Iteration 260/750] TRAIN loss: -0.231\n",
      "[Iteration 265/750] TRAIN loss: -1.989\n",
      "[Iteration 270/750] TRAIN loss: -0.175\n",
      "[Epoch 18/50] TRAIN acc/loss/dice: 0.921/-0.175/0.479\n",
      "[Epoch 18/50] VAL   acc/loss/dice: 0.540/0.000/0.479\n",
      "[Iteration 275/750] TRAIN loss: -0.177\n",
      "[Iteration 280/750] TRAIN loss: 0.000\n",
      "[Iteration 285/750] TRAIN loss: -2.224\n",
      "[Epoch 19/50] TRAIN acc/loss/dice: 0.957/-2.224/0.677\n",
      "[Epoch 19/50] VAL   acc/loss/dice: 0.731/0.000/0.677\n",
      "[Iteration 290/750] TRAIN loss: -0.175\n",
      "[Iteration 295/750] TRAIN loss: -0.225\n",
      "[Iteration 300/750] TRAIN loss: -1.990\n",
      "[Epoch 20/50] TRAIN acc/loss/dice: 0.945/-1.990/0.682\n",
      "[Epoch 20/50] VAL   acc/loss/dice: 0.827/0.000/0.682\n",
      "[Iteration 305/750] TRAIN loss: -2.002\n",
      "[Iteration 310/750] TRAIN loss: -0.410\n",
      "[Iteration 315/750] TRAIN loss: 0.000\n",
      "[Epoch 21/50] TRAIN acc/loss/dice: 0.949/0.000/0.487\n",
      "[Epoch 21/50] VAL   acc/loss/dice: 0.687/0.000/0.487\n",
      "[Iteration 320/750] TRAIN loss: -2.398\n",
      "[Iteration 325/750] TRAIN loss: -0.010\n",
      "[Iteration 330/750] TRAIN loss: 0.000\n",
      "[Epoch 22/50] TRAIN acc/loss/dice: 0.960/0.000/0.491\n",
      "[Epoch 22/50] VAL   acc/loss/dice: 0.884/0.000/0.491\n",
      "[Iteration 335/750] TRAIN loss: -0.010\n",
      "[Iteration 340/750] TRAIN loss: -1.942\n",
      "[Iteration 345/750] TRAIN loss: -0.398\n",
      "[Epoch 23/50] TRAIN acc/loss/dice: 0.928/-0.398/0.481\n",
      "[Epoch 23/50] VAL   acc/loss/dice: 0.648/0.000/0.481\n",
      "[Iteration 350/750] TRAIN loss: -2.232\n",
      "[Iteration 355/750] TRAIN loss: 0.000\n",
      "[Iteration 360/750] TRAIN loss: -0.171\n",
      "[Epoch 24/50] TRAIN acc/loss/dice: 0.947/-0.171/0.486\n",
      "[Epoch 24/50] VAL   acc/loss/dice: 0.791/0.000/0.486\n",
      "[Iteration 365/750] TRAIN loss: -0.227\n",
      "[Iteration 370/750] TRAIN loss: -0.171\n",
      "[Iteration 375/750] TRAIN loss: -2.002\n",
      "[Epoch 25/50] TRAIN acc/loss/dice: 0.975/-2.002/0.494\n",
      "[Epoch 25/50] VAL   acc/loss/dice: 0.769/0.000/0.494\n",
      "[Iteration 380/750] TRAIN loss: -0.174\n",
      "[Iteration 385/750] TRAIN loss: -2.014\n",
      "[Iteration 390/750] TRAIN loss: -0.234\n",
      "[Epoch 26/50] TRAIN acc/loss/dice: 0.969/-0.234/0.515\n",
      "[Epoch 26/50] VAL   acc/loss/dice: 0.765/0.000/0.515\n",
      "[Iteration 395/750] TRAIN loss: -0.010\n",
      "[Iteration 400/750] TRAIN loss: -2.004\n",
      "[Iteration 405/750] TRAIN loss: -0.405\n",
      "[Epoch 27/50] TRAIN acc/loss/dice: 0.974/-0.405/0.493\n",
      "[Epoch 27/50] VAL   acc/loss/dice: 0.717/0.000/0.493\n",
      "[Iteration 410/750] TRAIN loss: -0.233\n",
      "[Iteration 415/750] TRAIN loss: -1.996\n",
      "[Iteration 420/750] TRAIN loss: -0.175\n",
      "[Epoch 28/50] TRAIN acc/loss/dice: 0.942/-0.175/0.485\n",
      "[Epoch 28/50] VAL   acc/loss/dice: 0.629/0.000/0.485\n",
      "[Iteration 425/750] TRAIN loss: 0.000\n",
      "[Iteration 430/750] TRAIN loss: -2.007\n",
      "[Iteration 435/750] TRAIN loss: -0.398\n",
      "[Epoch 29/50] TRAIN acc/loss/dice: 0.925/-0.398/0.480\n",
      "[Epoch 29/50] VAL   acc/loss/dice: 0.658/0.000/0.480\n",
      "[Iteration 440/750] TRAIN loss: -0.177\n",
      "[Iteration 445/750] TRAIN loss: -0.232\n",
      "[Iteration 450/750] TRAIN loss: -1.971\n",
      "[Epoch 30/50] TRAIN acc/loss/dice: 0.928/-1.971/0.481\n",
      "[Epoch 30/50] VAL   acc/loss/dice: 0.670/0.000/0.481\n",
      "[Iteration 455/750] TRAIN loss: -2.219\n",
      "[Iteration 460/750] TRAIN loss: -0.180\n",
      "[Iteration 465/750] TRAIN loss: 0.000\n",
      "[Epoch 31/50] TRAIN acc/loss/dice: 0.939/0.000/0.484\n",
      "[Epoch 31/50] VAL   acc/loss/dice: 0.540/0.000/0.484\n",
      "[Iteration 470/750] TRAIN loss: -0.395\n",
      "[Iteration 475/750] TRAIN loss: -2.008\n",
      "[Iteration 480/750] TRAIN loss: 0.000\n",
      "[Epoch 32/50] TRAIN acc/loss/dice: 0.923/0.000/0.479\n",
      "[Epoch 32/50] VAL   acc/loss/dice: 0.705/0.000/0.479\n",
      "[Iteration 485/750] TRAIN loss: -1.998\n",
      "[Iteration 490/750] TRAIN loss: -0.168\n",
      "[Iteration 495/750] TRAIN loss: -0.234\n",
      "[Epoch 33/50] TRAIN acc/loss/dice: 0.900/-0.234/0.722\n",
      "[Epoch 33/50] VAL   acc/loss/dice: 0.860/0.000/0.722\n",
      "[Iteration 500/750] TRAIN loss: -0.173\n",
      "[Iteration 505/750] TRAIN loss: -2.246\n",
      "[Iteration 510/750] TRAIN loss: 0.000\n",
      "[Epoch 34/50] TRAIN acc/loss/dice: 0.932/0.000/0.482\n",
      "[Epoch 34/50] VAL   acc/loss/dice: 0.820/0.000/0.482\n",
      "[Iteration 515/750] TRAIN loss: -0.174\n",
      "[Iteration 520/750] TRAIN loss: 0.000\n",
      "[Iteration 525/750] TRAIN loss: -2.248\n",
      "[Epoch 35/50] TRAIN acc/loss/dice: 0.988/-2.248/0.686\n",
      "[Epoch 35/50] VAL   acc/loss/dice: 0.815/0.000/0.686\n",
      "[Iteration 530/750] TRAIN loss: -0.244\n",
      "[Iteration 535/750] TRAIN loss: -2.007\n",
      "[Iteration 540/750] TRAIN loss: -0.175\n",
      "[Epoch 36/50] TRAIN acc/loss/dice: 0.938/-0.175/0.583\n",
      "[Epoch 36/50] VAL   acc/loss/dice: 0.763/0.000/0.583\n",
      "[Iteration 545/750] TRAIN loss: -0.186\n",
      "[Iteration 550/750] TRAIN loss: -2.005\n",
      "[Iteration 555/750] TRAIN loss: -0.232\n",
      "[Epoch 37/50] TRAIN acc/loss/dice: 0.933/-0.232/0.732\n",
      "[Epoch 37/50] VAL   acc/loss/dice: 0.782/0.000/0.732\n"
     ]
    },
    {
     "name": "stdout",
     "output_type": "stream",
     "text": [
      "[Iteration 560/750] TRAIN loss: -0.232\n",
      "[Iteration 565/750] TRAIN loss: -0.177\n",
      "[Iteration 570/750] TRAIN loss: -2.018\n",
      "[Epoch 38/50] TRAIN acc/loss/dice: 0.971/-2.018/0.493\n",
      "[Epoch 38/50] VAL   acc/loss/dice: 0.735/0.000/0.493\n",
      "[Iteration 575/750] TRAIN loss: 0.000\n",
      "[Iteration 580/750] TRAIN loss: -0.184\n",
      "[Iteration 585/750] TRAIN loss: -2.216\n",
      "[Epoch 39/50] TRAIN acc/loss/dice: 0.954/-2.216/0.488\n",
      "[Epoch 39/50] VAL   acc/loss/dice: 0.585/0.000/0.488\n",
      "[Iteration 590/750] TRAIN loss: -2.178\n",
      "[Iteration 595/750] TRAIN loss: -0.233\n",
      "[Iteration 600/750] TRAIN loss: -0.007\n",
      "[Epoch 40/50] TRAIN acc/loss/dice: 0.933/-0.007/0.482\n",
      "[Epoch 40/50] VAL   acc/loss/dice: 0.729/0.000/0.482\n",
      "[Iteration 605/750] TRAIN loss: -2.247\n",
      "[Iteration 610/750] TRAIN loss: -0.174\n",
      "[Iteration 615/750] TRAIN loss: 0.000\n",
      "[Epoch 41/50] TRAIN acc/loss/dice: 0.942/0.000/0.489\n",
      "[Epoch 41/50] VAL   acc/loss/dice: 0.796/0.000/0.489\n",
      "[Iteration 620/750] TRAIN loss: -0.234\n",
      "[Iteration 625/750] TRAIN loss: -2.166\n",
      "[Iteration 630/750] TRAIN loss: -0.010\n",
      "[Epoch 42/50] TRAIN acc/loss/dice: 0.956/-0.010/0.489\n",
      "[Epoch 42/50] VAL   acc/loss/dice: 0.750/0.000/0.489\n",
      "[Iteration 635/750] TRAIN loss: -0.176\n",
      "[Iteration 640/750] TRAIN loss: -0.232\n",
      "[Iteration 645/750] TRAIN loss: -2.016\n",
      "[Epoch 43/50] TRAIN acc/loss/dice: 0.968/-2.016/0.492\n",
      "[Epoch 43/50] VAL   acc/loss/dice: 0.744/0.000/0.492\n",
      "[Iteration 650/750] TRAIN loss: -2.009\n",
      "[Iteration 655/750] TRAIN loss: -0.010\n",
      "[Iteration 660/750] TRAIN loss: -0.410\n",
      "[Epoch 44/50] TRAIN acc/loss/dice: 0.945/-0.410/0.486\n",
      "[Epoch 44/50] VAL   acc/loss/dice: 0.751/0.000/0.486\n",
      "[Iteration 665/750] TRAIN loss: -0.235\n",
      "[Iteration 670/750] TRAIN loss: -0.173\n",
      "[Iteration 675/750] TRAIN loss: -2.018\n",
      "[Epoch 45/50] TRAIN acc/loss/dice: 0.967/-2.018/0.492\n",
      "[Epoch 45/50] VAL   acc/loss/dice: 0.732/0.000/0.492\n",
      "[Iteration 680/750] TRAIN loss: -0.172\n",
      "[Iteration 685/750] TRAIN loss: -1.991\n",
      "[Iteration 690/750] TRAIN loss: -0.246\n",
      "[Epoch 46/50] TRAIN acc/loss/dice: 0.894/-0.246/0.471\n",
      "[Epoch 46/50] VAL   acc/loss/dice: 0.679/0.000/0.471\n",
      "[Iteration 695/750] TRAIN loss: -2.412\n",
      "[Iteration 700/750] TRAIN loss: 0.000\n",
      "[Iteration 705/750] TRAIN loss: -0.010\n",
      "[Epoch 47/50] TRAIN acc/loss/dice: 0.960/-0.010/0.490\n",
      "[Epoch 47/50] VAL   acc/loss/dice: 0.723/0.000/0.490\n",
      "[Iteration 710/750] TRAIN loss: -2.010\n",
      "[Iteration 715/750] TRAIN loss: -0.183\n",
      "[Iteration 720/750] TRAIN loss: -0.228\n",
      "[Epoch 48/50] TRAIN acc/loss/dice: 0.973/-0.228/0.493\n",
      "[Epoch 48/50] VAL   acc/loss/dice: 0.791/0.000/0.493\n",
      "[Iteration 725/750] TRAIN loss: -2.010\n",
      "[Iteration 730/750] TRAIN loss: -0.406\n",
      "[Iteration 735/750] TRAIN loss: -0.010\n",
      "[Epoch 49/50] TRAIN acc/loss/dice: 0.945/-0.010/0.489\n",
      "[Epoch 49/50] VAL   acc/loss/dice: 0.767/0.000/0.489\n",
      "[Iteration 740/750] TRAIN loss: -0.247\n",
      "[Iteration 745/750] TRAIN loss: 0.000\n",
      "[Iteration 750/750] TRAIN loss: -2.181\n",
      "[Epoch 50/50] TRAIN acc/loss/dice: 0.989/-2.181/0.692\n",
      "[Epoch 50/50] VAL   acc/loss/dice: 0.768/0.000/0.692\n",
      "FINISH\n"
     ]
    }
   ],
   "source": [
    "model = DeepVesselNetFCN(batchnorm=True, dropout=True)\n",
    "model = torch.load(\"models/deepvesselnet_final_batchnorm+dropout.model\")\n",
    "\n",
    "optim_args_SGD = {\"lr\": 2e-2, \"weight_decay\": 0.0005, \"momentum\": 0.9, \"nesterov\": True}\n",
    "\n",
    "solver = Solver(optim_args=optim_args_SGD, optim=torch.optim.SGD)\n",
    "solver.train(model, train_loader, val_loader, log_nth=5, num_epochs=50)"
   ]
  },
  {
   "cell_type": "markdown",
   "metadata": {},
   "source": [
    "## Save model"
   ]
  },
  {
   "cell_type": "code",
   "execution_count": 5,
   "metadata": {},
   "outputs": [
    {
     "name": "stdout",
     "output_type": "stream",
     "text": [
      "Saving model... models/deepvesselnet_mra_final_pretrain.model\n"
     ]
    }
   ],
   "source": [
    "model.save(\"models/deepvesselnet_mra_final_pretrain.model\")\n"
   ]
  },
  {
   "cell_type": "code",
   "execution_count": 6,
   "metadata": {},
   "outputs": [
    {
     "name": "stdout",
     "output_type": "stream",
     "text": [
      "Dice coefficient of output:  0.000363429\n",
      "Num seg pixels:  4470\n",
      "Num output pixels:  169813137\n",
      "Dice coefficient of output:  0.001598643\n",
      "Num seg pixels:  172056\n",
      "Num output pixels:  169769484\n",
      "Dice coefficient of output:  0.00055015384\n",
      "Num seg pixels:  10563\n",
      "Num output pixels:  169787445\n",
      "FINISH TEST\n"
     ]
    }
   ],
   "source": [
    "# model = DeepVesselNetFCN(batchnorm=True, dropout=True)\n",
    "# model = torch.load(\"models/deepvesselnet_mra_final_no_pretrain.model\")\n",
    "all_patients_test = MRAData(root_path=\"./mra/\", mode=\"test\", transform=\"none\")\n",
    "\n",
    "test_num = 3\n",
    "model.eval()\n",
    "for i in range(test_num):\n",
    "    volume, segmentation = all_patients_test[i]\n",
    "    volume = volume.unsqueeze(0)\n",
    "    MRA_path = all_patients_test.name\n",
    "\n",
    "    output = ms.test(model, volume)\n",
    "\n",
    "    dice = ms.dice_coeff(output, segmentation, pred=True).detach().cpu().numpy()\n",
    "    print(\"Dice coefficient of output: \", dice)\n",
    "    print(\"Num seg pixels: \", np.argwhere(segmentation.detach().cpu().numpy() == 1).size)\n",
    "    print(\"Num output pixels: \", np.argwhere(output.detach().cpu().numpy() == 1).size)\n",
    "\n",
    "#     model.writer(\"Test dice coefficient\", dice, i)\n",
    "    \n",
    "print(\"FINISH TEST\")"
   ]
  },
  {
   "cell_type": "markdown",
   "metadata": {},
   "source": [
    "## Visualize MRA and output"
   ]
  },
  {
   "cell_type": "code",
   "execution_count": 7,
   "metadata": {},
   "outputs": [
    {
     "data": {
      "text/plain": [
       "<Figure size 432x288 with 0 Axes>"
      ]
     },
     "metadata": {},
     "output_type": "display_data"
    },
    {
     "data": {
      "application/vnd.jupyter.widget-view+json": {
       "model_id": "a4bd1d05b5524af6a48b4643a53330b3",
       "version_major": 2,
       "version_minor": 0
      },
      "text/plain": [
       "interactive(children=(IntSlider(value=191, continuous_update=False, description='x', max=383), IntSlider(value…"
      ]
     },
     "metadata": {},
     "output_type": "display_data"
    },
    {
     "data": {
      "text/plain": [
       "<Figure size 432x288 with 0 Axes>"
      ]
     },
     "metadata": {},
     "output_type": "display_data"
    },
    {
     "data": {
      "application/vnd.jupyter.widget-view+json": {
       "model_id": "92a6e2a5bdb742d1abcc1eab72b5dd3e",
       "version_major": 2,
       "version_minor": 0
      },
      "text/plain": [
       "interactive(children=(IntSlider(value=191, continuous_update=False, description='x', max=383), IntSlider(value…"
      ]
     },
     "metadata": {},
     "output_type": "display_data"
    },
    {
     "data": {
      "text/plain": [
       "<Figure size 432x288 with 0 Axes>"
      ]
     },
     "metadata": {},
     "output_type": "display_data"
    },
    {
     "data": {
      "application/vnd.jupyter.widget-view+json": {
       "model_id": "6ff859720c914a58b3af4c188be97cbd",
       "version_major": 2,
       "version_minor": 0
      },
      "text/plain": [
       "interactive(children=(IntSlider(value=191, continuous_update=False, description='x', max=383), IntSlider(value…"
      ]
     },
     "metadata": {},
     "output_type": "display_data"
    }
   ],
   "source": [
    "MRA_affine = nib.load(MRA_path).affine\n",
    "\n",
    "MRA_widget = nw.NiftiWidget(MRA_path)\n",
    "MRA_widget.nifti_plotter()\n",
    "\n",
    "seg_path = MRA_path.replace(\"raw\", \"seg\")\n",
    "seg_widget = nw.NiftiWidget(seg_path)\n",
    "seg_widget.nifti_plotter()\n",
    "\n",
    "save_name = MRA_path.replace(\"./mra/raw/\", \"\")\n",
    "out_img = nib.Nifti1Image(output.detach().cpu().numpy(), MRA_affine)\n",
    "nib.save(out_img, os.path.join(\"mra_out\", save_name))\n",
    "\n",
    "test_widget = nw.NiftiWidget(os.path.join(\"mra_out\", save_name))\n",
    "test_widget.nifti_plotter()"
   ]
  },
  {
   "cell_type": "code",
   "execution_count": null,
   "metadata": {},
   "outputs": [],
   "source": []
  }
 ],
 "metadata": {
  "kernelspec": {
   "display_name": "Python 3",
   "language": "python",
   "name": "python3"
  },
  "language_info": {
   "codemirror_mode": {
    "name": "ipython",
    "version": 3
   },
   "file_extension": ".py",
   "mimetype": "text/x-python",
   "name": "python",
   "nbconvert_exporter": "python",
   "pygments_lexer": "ipython3",
   "version": "3.7.6"
  },
  "pycharm": {
   "stem_cell": {
    "cell_type": "raw",
    "metadata": {
     "collapsed": false
    },
    "source": []
   }
  }
 },
 "nbformat": 4,
 "nbformat_minor": 1
}
