{
 "cells": [
  {
   "cell_type": "markdown",
   "metadata": {},
   "source": [
    "Imports\n",
    "============"
   ]
  },
  {
   "cell_type": "code",
   "execution_count": 2,
   "metadata": {
    "pycharm": {
     "name": "#%%\n"
    }
   },
   "outputs": [
    {
     "name": "stdout",
     "output_type": "stream",
     "text": [
      "['/home/dhaval/.conda/envs/pytorch/lib/python36.zip', '/home/dhaval/.conda/envs/pytorch/lib/python3.6', '/home/dhaval/.conda/envs/pytorch/lib/python3.6/lib-dynload', '', '/home/dhaval/.conda/envs/pytorch/lib/python3.6/site-packages', '/home/dhaval/.conda/envs/pytorch/lib/python3.6/site-packages/IPython/extensions', '/home/dhaval/.ipython', '/home/dhaval/PycharmProjects/DeepVesselNet/dvn']\n"
     ]
    }
   ],
   "source": [
    "import sys\n",
    "sys.path.append('/home/dhaval/PycharmProjects/DeepVesselNet/dvn')\n",
    "import numpy as np\n",
    "import matplotlib.pyplot as plt\n",
    "import torch\n",
    "from dvn.dvn_fcn import DeepVesselNetFCN\n",
    "from dvn.solver import Solver\n",
    "import dvn.misc as ms\n"
   ]
  },
  {
   "cell_type": "markdown",
   "metadata": {
    "pycharm": {
     "name": "#%% md\n"
    }
   },
   "source": [
    "Firstly we load the data\n",
    "============\n",
    "Update: 25.09.2019: At the moment using trivial data as testing\n"
   ]
  },
  {
   "cell_type": "code",
   "execution_count": 22,
   "metadata": {
    "pycharm": {
     "name": "#%%\n"
    }
   },
   "outputs": [
    {
     "name": "stdout",
     "output_type": "stream",
     "text": [
      "Y1 =  (10, 1, 64, 64)\n",
      "Y2 =  (10, 64, 64)\n",
      "Y3 =  (10, 64, 64, 2)\n",
      "Y4 =  (10, 2, 64, 64)\n"
     ]
    }
   ],
   "source": [
    "# Dimension of data\n",
    "dim = 2\n",
    "N = (10, 1,) + (64,)*dim\n",
    "X = np.random.random(N)\n",
    "Y = np.random.randint(2, size=N)\n",
    "print(\"Y1 = \", Y.shape)\n",
    "Y = np.squeeze(Y)\n",
    "print(\"Y2 = \", Y.shape)\n",
    "Y = ms.to_one_hot(Y)\n",
    "print(\"Y3 = \", Y.shape)\n",
    "Y = np.transpose(Y, axes=[0, dim+1] + list(range(1, dim+1)))\n",
    "#print(\"N = \", N)\n",
    "#print(\"X = \", X.shape)\n",
    "print(\"Y4 = \", Y.shape)\n"
   ]
  },
  {
   "cell_type": "markdown",
   "metadata": {
    "pycharm": {
     "name": "#%% md\n"
    }
   },
   "source": [
    "Visualize part of the data\n",
    "============"
   ]
  },
  {
   "cell_type": "code",
   "execution_count": null,
   "metadata": {
    "pycharm": {
     "name": "#%%\n"
    }
   },
   "outputs": [],
   "source": []
  },
  {
   "cell_type": "markdown",
   "metadata": {
    "pycharm": {
     "name": "#%% md\n"
    }
   },
   "source": [
    "Design network \n",
    "============"
   ]
  },
  {
   "cell_type": "code",
   "execution_count": null,
   "metadata": {
    "pycharm": {
     "name": "#%%\n"
    }
   },
   "outputs": [],
   "source": []
  },
  {
   "cell_type": "markdown",
   "metadata": {
    "pycharm": {
     "name": "#%% md\n"
    }
   },
   "source": [
    "Train network\n",
    "============"
   ]
  },
  {
   "cell_type": "code",
   "execution_count": null,
   "metadata": {
    "pycharm": {
     "name": "#%%\n"
    }
   },
   "outputs": [],
   "source": []
  },
  {
   "cell_type": "markdown",
   "metadata": {
    "pycharm": {
     "name": "#%% md\n"
    }
   },
   "source": [
    "Test network\n",
    "============"
   ]
  },
  {
   "cell_type": "code",
   "execution_count": null,
   "metadata": {
    "pycharm": {
     "name": "#%%\n"
    }
   },
   "outputs": [],
   "source": []
  },
  {
   "cell_type": "markdown",
   "metadata": {
    "pycharm": {
     "name": "#%% md\n"
    }
   },
   "source": [
    "Visualization of network outputs\n",
    "============\n"
   ]
  },
  {
   "cell_type": "code",
   "execution_count": null,
   "metadata": {
    "pycharm": {
     "name": "#%% \n"
    }
   },
   "outputs": [],
   "source": []
  }
 ],
 "metadata": {
  "kernelspec": {
   "display_name": "Python 3",
   "language": "python",
   "name": "python3"
  },
  "language_info": {
   "codemirror_mode": {
    "name": "ipython",
    "version": 3
   },
   "file_extension": ".py",
   "mimetype": "text/x-python",
   "name": "python",
   "nbconvert_exporter": "python",
   "pygments_lexer": "ipython3",
   "version": "3.6.9"
  },
  "pycharm": {
   "stem_cell": {
    "cell_type": "raw",
    "metadata": {
     "collapsed": false
    },
    "source": []
   }
  }
 },
 "nbformat": 4,
 "nbformat_minor": 1
}
