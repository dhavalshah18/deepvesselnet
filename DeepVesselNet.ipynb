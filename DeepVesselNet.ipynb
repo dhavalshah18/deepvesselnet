{
 "cells": [
  {
   "cell_type": "markdown",
   "metadata": {},
   "source": [
    "## Imports"
   ]
  },
  {
   "cell_type": "code",
   "execution_count": 1,
   "metadata": {
    "pycharm": {
     "is_executing": false,
     "name": "#%%\n"
    }
   },
   "outputs": [],
   "source": [
    "import numpy as np\n",
    "import matplotlib.pyplot as plt\n",
    "import torch\n",
    "import os\n",
    "\n",
    "from dvn.dvn_fcn import DeepVesselNetFCN\n",
    "from dvn.solver import Solver\n",
    "from dvn.data_utils import SyntheticData\n",
    "import dvn.misc as ms\n",
    "\n",
    "torch.set_default_tensor_type('torch.FloatTensor')\n",
    "# set up default cuda device\n",
    "device = torch.device(\"cuda:0\" if torch.cuda.is_available() else \"cpu\")\n",
    "# device = torch.device(\"cpu\")\n",
    "\n",
    "# for auto-reloading external modules\n",
    "# see http://stackoverflow.com/questions/1907993/autoreload-of-modules-in-ipython\n",
    "%load_ext autoreload\n",
    "%autoreload 2"
   ]
  },
  {
   "cell_type": "markdown",
   "metadata": {
    "pycharm": {
     "name": "#%% md\n"
    }
   },
   "source": [
    "## Load the data"
   ]
  },
  {
   "cell_type": "code",
   "execution_count": 2,
   "metadata": {
    "pycharm": {
     "is_executing": false,
     "name": "#%%\n"
    }
   },
   "outputs": [],
   "source": [
    "patch_size=64\n",
    "\n",
    "train_synthetic = SyntheticData(root_path=\"./data/train/\", patch_size=patch_size)\n",
    "val_and_test = SyntheticData(root_path=\"./data/val/\", patch_size=patch_size)\n",
    "val_synthetic = val_and_test[:int(len(val_and_test)/2)]\n",
    "test_synthetic = val_and_test[int(len(val_and_test)/2):]\n"
   ]
  },
  {
   "cell_type": "markdown",
   "metadata": {
    "pycharm": {
     "name": "#%% md\n"
    }
   },
   "source": [
    "## Visualize part of the data"
   ]
  },
  {
   "cell_type": "code",
   "execution_count": 3,
   "metadata": {
    "pycharm": {
     "is_executing": false,
     "name": "#%%\n"
    }
   },
   "outputs": [
    {
     "name": "stdout",
     "output_type": "stream",
     "text": [
      "Train size: 110\n",
      "Validation size: 13\n",
      "Img size:  torch.Size([1, 64, 64, 64])\n",
      "Segmentation size:  torch.Size([64, 64, 64])\n"
     ]
    }
   ],
   "source": [
    "print(\"Train size: %i\" % len(train_synthetic))\n",
    "print(\"Validation size: %i\" % len(val_synthetic))\n",
    "print(\"Img size: \", train_synthetic[0][0].size())\n",
    "print(\"Segmentation size: \", train_synthetic[0][1].size())"
   ]
  },
  {
   "cell_type": "markdown",
   "metadata": {
    "pycharm": {
     "name": "#%% md\n"
    }
   },
   "source": [
    "## Design network"
   ]
  },
  {
   "cell_type": "code",
   "execution_count": 4,
   "metadata": {
    "pycharm": {
     "is_executing": false,
     "name": "#%%\n"
    }
   },
   "outputs": [],
   "source": [
    "train_loader = torch.utils.data.DataLoader(train_synthetic, batch_size=10, shuffle=True, num_workers=2)\n",
    "val_loader = torch.utils.data.DataLoader(val_synthetic, batch_size=2, shuffle=False, num_workers=2)"
   ]
  },
  {
   "cell_type": "markdown",
   "metadata": {
    "pycharm": {
     "is_executing": false,
     "name": "#%% md\n"
    }
   },
   "source": [
    "## Train network"
   ]
  },
  {
   "cell_type": "code",
   "execution_count": 5,
   "metadata": {
    "pycharm": {
     "is_executing": true,
     "name": "#%%\n"
    }
   },
   "outputs": [
    {
     "name": "stdout",
     "output_type": "stream",
     "text": [
      "START TRAIN\n",
      "[Iteration 5/220] TRAIN loss: -4.888\n",
      "[Iteration 10/220] TRAIN loss: -6.446\n",
      "[Epoch 1/20] TRAIN acc/loss/dice: 0.964/-6.446/0.718\n",
      "[Epoch 1/20] VAL   acc/loss/dice: 0.026/-4.848/0.718\n",
      "[Iteration 16/220] TRAIN loss: -7.276\n",
      "[Iteration 21/220] TRAIN loss: -7.620\n",
      "[Epoch 2/20] TRAIN acc/loss/dice: 0.979/-7.620/0.826\n",
      "[Epoch 2/20] VAL   acc/loss/dice: 0.037/-4.926/0.826\n",
      "[Iteration 27/220] TRAIN loss: -7.224\n",
      "[Iteration 32/220] TRAIN loss: -7.938\n",
      "[Epoch 3/20] TRAIN acc/loss/dice: 0.985/-7.938/0.828\n",
      "[Epoch 3/20] VAL   acc/loss/dice: 0.976/-9.727/0.828\n",
      "[Iteration 38/220] TRAIN loss: -8.055\n",
      "[Iteration 43/220] TRAIN loss: -7.538\n",
      "[Epoch 4/20] TRAIN acc/loss/dice: 0.989/-7.538/0.863\n",
      "[Epoch 4/20] VAL   acc/loss/dice: 0.990/-9.886/0.863\n",
      "[Iteration 49/220] TRAIN loss: -7.933\n",
      "[Iteration 54/220] TRAIN loss: -7.688\n",
      "[Epoch 5/20] TRAIN acc/loss/dice: 0.989/-7.688/0.865\n",
      "[Epoch 5/20] VAL   acc/loss/dice: 0.989/-9.896/0.865\n",
      "[Iteration 60/220] TRAIN loss: -8.137\n",
      "[Iteration 65/220] TRAIN loss: -7.428\n",
      "[Epoch 6/20] TRAIN acc/loss/dice: 0.993/-7.428/0.909\n",
      "[Epoch 6/20] VAL   acc/loss/dice: 0.992/-9.935/0.909\n",
      "[Iteration 71/220] TRAIN loss: -7.984\n",
      "[Iteration 76/220] TRAIN loss: -7.731\n",
      "[Epoch 7/20] TRAIN acc/loss/dice: 0.994/-7.731/0.930\n",
      "[Epoch 7/20] VAL   acc/loss/dice: 0.993/-9.950/0.930\n",
      "[Iteration 82/220] TRAIN loss: -8.302\n",
      "[Iteration 87/220] TRAIN loss: -8.459\n",
      "[Epoch 8/20] TRAIN acc/loss/dice: 0.995/-8.459/0.936\n",
      "[Epoch 8/20] VAL   acc/loss/dice: 0.992/-9.943/0.936\n",
      "[Iteration 93/220] TRAIN loss: -7.594\n",
      "[Iteration 98/220] TRAIN loss: -8.394\n",
      "[Epoch 9/20] TRAIN acc/loss/dice: 0.993/-8.394/0.931\n",
      "[Epoch 9/20] VAL   acc/loss/dice: 0.992/-9.943/0.931\n",
      "[Iteration 104/220] TRAIN loss: -7.505\n",
      "[Iteration 109/220] TRAIN loss: -7.713\n",
      "[Epoch 10/20] TRAIN acc/loss/dice: 0.995/-7.713/0.944\n",
      "[Epoch 10/20] VAL   acc/loss/dice: 0.991/-9.931/0.944\n",
      "[Iteration 115/220] TRAIN loss: -7.678\n",
      "[Iteration 120/220] TRAIN loss: -8.270\n",
      "[Epoch 11/20] TRAIN acc/loss/dice: 0.995/-8.270/0.932\n",
      "[Epoch 11/20] VAL   acc/loss/dice: 0.993/-9.956/0.932\n",
      "[Iteration 126/220] TRAIN loss: -7.856\n",
      "[Iteration 131/220] TRAIN loss: -8.423\n",
      "[Epoch 12/20] TRAIN acc/loss/dice: 0.996/-8.423/0.954\n",
      "[Epoch 12/20] VAL   acc/loss/dice: 0.994/-9.973/0.954\n",
      "[Iteration 137/220] TRAIN loss: -7.091\n",
      "[Iteration 142/220] TRAIN loss: -8.067\n",
      "[Epoch 13/20] TRAIN acc/loss/dice: 0.993/-8.067/0.905\n",
      "[Epoch 13/20] VAL   acc/loss/dice: 0.992/-9.956/0.905\n",
      "[Iteration 148/220] TRAIN loss: -7.176\n",
      "[Iteration 153/220] TRAIN loss: -7.828\n",
      "[Epoch 14/20] TRAIN acc/loss/dice: 0.996/-7.828/0.940\n",
      "[Epoch 14/20] VAL   acc/loss/dice: 0.994/-9.973/0.940\n",
      "[Iteration 159/220] TRAIN loss: -7.483\n",
      "[Iteration 164/220] TRAIN loss: -8.017\n",
      "[Epoch 15/20] TRAIN acc/loss/dice: 0.995/-8.017/0.928\n",
      "[Epoch 15/20] VAL   acc/loss/dice: 0.992/-9.953/0.928\n",
      "[Iteration 170/220] TRAIN loss: -7.281\n",
      "[Iteration 175/220] TRAIN loss: -8.222\n",
      "[Epoch 16/20] TRAIN acc/loss/dice: 0.994/-8.222/0.929\n",
      "[Epoch 16/20] VAL   acc/loss/dice: 0.991/-9.937/0.929\n",
      "[Iteration 181/220] TRAIN loss: -7.763\n",
      "[Iteration 186/220] TRAIN loss: -7.863\n",
      "[Epoch 17/20] TRAIN acc/loss/dice: 0.995/-7.863/0.927\n",
      "[Epoch 17/20] VAL   acc/loss/dice: 0.994/-9.983/0.927\n",
      "[Iteration 192/220] TRAIN loss: -7.497\n",
      "[Iteration 197/220] TRAIN loss: -8.121\n",
      "[Epoch 18/20] TRAIN acc/loss/dice: 0.996/-8.121/0.940\n",
      "[Epoch 18/20] VAL   acc/loss/dice: 0.994/-9.982/0.940\n",
      "[Iteration 203/220] TRAIN loss: -7.694\n",
      "[Iteration 208/220] TRAIN loss: -8.313\n",
      "[Epoch 19/20] TRAIN acc/loss/dice: 0.995/-8.313/0.936\n",
      "[Epoch 19/20] VAL   acc/loss/dice: 0.993/-9.966/0.936\n",
      "[Iteration 214/220] TRAIN loss: -7.655\n",
      "[Iteration 219/220] TRAIN loss: -7.972\n",
      "[Epoch 20/20] TRAIN acc/loss/dice: 0.997/-7.972/0.972\n",
      "[Epoch 20/20] VAL   acc/loss/dice: 0.994/-9.983/0.972\n",
      "FINISH\n"
     ]
    }
   ],
   "source": [
    "model = DeepVesselNetFCN(batchnorm=True, dropout=True)\n",
    "model.to(device)\n",
    "\n",
    "optim_args_SGD = {\"lr\": 1e-2, \"weight_decay\": 0.01, \"momentum\": 0.9}\n",
    "optim_args_ADAM = {\"lr\": 1e-2, \"weight_decay\": 0.01}\n",
    "\n",
    "solver = Solver(optim_args=optim_args_SGD, optim=torch.optim.SGD)\n",
    "solver.train(model, train_loader, val_loader, log_nth=5, num_epochs=20)"
   ]
  },
  {
   "cell_type": "markdown",
   "metadata": {
    "pycharm": {
     "is_executing": true,
     "name": "#%%\n"
    }
   },
   "source": [
    "## Test network"
   ]
  },
  {
   "cell_type": "code",
   "execution_count": 12,
   "metadata": {
    "pycharm": {
     "name": "#%%\n"
    }
   },
   "outputs": [
    {
     "name": "stdout",
     "output_type": "stream",
     "text": [
      "torch.Size([1, 325, 304, 600])\n",
      "Dice coefficient of output:  0.93963444\n",
      "torch.Size([1, 325, 304, 600])\n",
      "Dice coefficient of output:  0.9422885\n",
      "torch.Size([1, 325, 304, 600])\n",
      "Dice coefficient of output:  0.94367355\n",
      "torch.Size([1, 325, 304, 600])\n",
      "Dice coefficient of output:  0.94455785\n",
      "torch.Size([1, 325, 304, 600])\n",
      "Dice coefficient of output:  0.9478182\n",
      "torch.Size([1, 325, 304, 600])\n",
      "Dice coefficient of output:  0.94087034\n",
      "torch.Size([1, 325, 304, 600])\n",
      "Dice coefficient of output:  0.94314915\n",
      "torch.Size([1, 325, 304, 600])\n",
      "Dice coefficient of output:  0.9504907\n",
      "torch.Size([1, 325, 304, 600])\n",
      "Dice coefficient of output:  0.9462275\n",
      "torch.Size([1, 325, 304, 600])\n",
      "Dice coefficient of output:  0.942931\n",
      "torch.Size([1, 325, 304, 600])\n",
      "Dice coefficient of output:  0.9452157\n",
      "torch.Size([1, 325, 304, 600])\n",
      "Dice coefficient of output:  0.93958837\n",
      "torch.Size([1, 325, 304, 600])\n",
      "Dice coefficient of output:  0.9456436\n"
     ]
    }
   ],
   "source": [
    "val_and_test = SyntheticData(root_path=\"./data/val/\", patch_size=patch_size, mode=\"test\")\n",
    "test_synthetic = val_and_test[int(len(val_and_test)/2):]\n",
    "\n",
    "\n",
    "for i in range(len(test_synthetic)):\n",
    "    volume, segmentation = test_synthetic[i]\n",
    "    volume = volume.unsqueeze(0)\n",
    "    output = ms.test(model, volume)\n",
    "    dice = ms.dice_coeff(output, segmentation, pred=True).detach().cpu().numpy()"
   ]
  },
  {
   "cell_type": "markdown",
   "metadata": {
    "pycharm": {
     "name": "#%% md\n"
    }
   },
   "source": [
    "## Visualize outputs\n"
   ]
  },
  {
   "cell_type": "code",
   "execution_count": 4,
   "metadata": {
    "pycharm": {
     "is_executing": true,
     "name": "#%% \n"
    }
   },
   "outputs": [
    {
     "data": {
      "image/png": "[encoded data removed]",
      "text/plain": [
       "<Figure size 1080x1080 with 9 Axes>"
      ]
     },
     "metadata": {
      "needs_background": "light"
     },
     "output_type": "display_data"
    }
   ],
   "source": [
    "# model = model.best_val_model\n",
    "model = DeepVesselNetFCN(batchnorm=True,dropout=True)\n",
    "model = torch.load(\"models/deepvesselnet_final_batchnorm+dropout.model\")\n",
    "num_example_imgs = 3\n",
    "plt.figure(figsize=(15, 5 * num_example_imgs))\n",
    "model.eval()\n",
    "for i, (inputs, targets) in enumerate(val_synthetic[:num_example_imgs]):\n",
    "    \n",
    "    inputs, targets = inputs.to(device, dtype=torch.float).unsqueeze(0), targets.to(device)\n",
    "    \n",
    "    outputs = model.forward(inputs)\n",
    "    _, preds = torch.max(outputs, 1)\n",
    "\n",
    "    inputs, targets, preds = inputs.cpu().numpy(), targets.cpu().numpy(), preds.squeeze(0).cpu().numpy()\n",
    "    \n",
    "    # inputs\n",
    "    plt.subplot(num_example_imgs, 3, i * 3 + 1)\n",
    "    plt.axis('off')\n",
    "    plt.imshow(inputs[0,0,5])\n",
    "    if i == 0:\n",
    "        plt.title(\"Input image\")\n",
    "    \n",
    "    # target\n",
    "    plt.subplot(num_example_imgs, 3, i * 3 + 2)\n",
    "    plt.axis('off')\n",
    "    plt.imshow(targets[5])\n",
    "    if i == 0:\n",
    "        plt.title(\"Target image\")\n",
    "\n",
    "    # pred\n",
    "    plt.subplot(num_example_imgs, 3, i * 3 + 3)\n",
    "    plt.axis('off')\n",
    "    plt.imshow(preds[5])\n",
    "    if i == 0:\n",
    "        plt.title(\"Prediction image\")"
   ]
  },
  {
   "cell_type": "markdown",
   "metadata": {
    "pycharm": {
     "name": "#%% md\n"
    }
   },
   "source": [
    "## Train with noisy data\n"
   ]
  },
  {
   "cell_type": "code",
   "execution_count": null,
   "metadata": {},
   "outputs": [],
   "source": [
    "patch_size=64\n",
    "\n",
    "train_synthetic_noisy = SyntheticData(root_path=\"./noisy_data/train/\", patch_size=patch_size)\n",
    "val_synthetic_noisy = SyntheticData(root_path=\"./noisy_data/val/\", patch_size=patch_size)\n",
    "\n",
    "print(\"DONE\")\n",
    "\n",
    "train_noisy_loader = torch.utils.data.DataLoader(train_synthetic_noisy, \n",
    "                                                  batch_size=10, shuffle=True, num_workers=1)\n",
    "val_noisy_loader = torch.utils.data.DataLoader(val_synthetic_noisy, \n",
    "                                                batch_size=2, shuffle=False, num_workers=1)\n",
    "\n",
    "model_noisy = DeepVesselNetFCN(dropout=True)\n",
    "model_noisy.to(device)\n",
    "\n",
    "optim_args_SGD = {\"lr\": 1e-2, \"weight_decay\": 0, \"momentum\": 0.9}\n",
    "optim_args_Adam = {\"lr\": 1e-2, \"weight_decay\": 0}\n",
    "\n",
    "solver_noisy = Solver(optim_args=optim_args_SGD, optim=torch.optim.SGD)\n",
    "solver_noisy.train(model_noisy, train_noisy_loader, val_noisy_loader, log_nth=5, num_epochs=10)"
   ]
  },
  {
   "cell_type": "code",
   "execution_count": null,
   "metadata": {
    "pycharm": {
     "name": "#%%\n"
    }
   },
   "outputs": [],
   "source": [
    "# model_noisy = model_noisy.best_val_model\n",
    "num_example_imgs = 5\n",
    "plt.figure(figsize=(15, 5 * num_example_imgs))\n",
    "model_noisy.eval()\n",
    "for i, (inputs, targets) in enumerate(val_synthetic[:num_example_imgs]):\n",
    "    \n",
    "    inputs, targets = inputs.to(device, dtype=torch.float).unsqueeze(0), targets.to(device)\n",
    "    \n",
    "    outputs = model_noisy.forward(inputs)\n",
    "    _, preds = torch.max(outputs, 1)\n",
    "\n",
    "    inputs, targets, preds = inputs.cpu().numpy(), targets.cpu().numpy(), preds.squeeze(0).cpu().numpy()\n",
    "    \n",
    "    # inputs\n",
    "    plt.subplot(num_example_imgs, 3, i * 3 + 1)\n",
    "    plt.axis('off')\n",
    "    plt.imshow(inputs[0,0,5])\n",
    "    if i == 0:\n",
    "        plt.title(\"Input image\")\n",
    "    \n",
    "    # target\n",
    "    plt.subplot(num_example_imgs, 3, i * 3 + 2)\n",
    "    plt.axis('off')\n",
    "    plt.imshow(targets[5])\n",
    "    if i == 0:\n",
    "        plt.title(\"Target image\")\n",
    "\n",
    "    # pred\n",
    "    plt.subplot(num_example_imgs, 3, i * 3 + 3)\n",
    "    plt.axis('off')\n",
    "    plt.imshow(preds[5])\n",
    "    if i == 0:\n",
    "        plt.title(\"Prediction image\")\n"
   ]
  },
  {
   "cell_type": "markdown",
   "metadata": {
    "pycharm": {
     "name": "#%% md\n"
    }
   },
   "source": [
    "## Save models"
   ]
  },
  {
   "cell_type": "code",
   "execution_count": 13,
   "metadata": {
    "pycharm": {
     "name": "#%%\n"
    }
   },
   "outputs": [
    {
     "name": "stdout",
     "output_type": "stream",
     "text": [
      "Saving model... models/deepvesselnet_final_batchnorm+dropout.model\n"
     ]
    },
    {
     "name": "stderr",
     "output_type": "stream",
     "text": [
      "/home/dshah/anaconda3/envs/pytorch/lib/python3.7/site-packages/torch/serialization.py:292: UserWarning: Couldn't retrieve source code for container of type DeepVesselNetFCN. It won't be checked for correctness upon loading.\n",
      "  \"type \" + obj.__name__ + \". It won't be checked \"\n",
      "/home/dshah/anaconda3/envs/pytorch/lib/python3.7/site-packages/torch/serialization.py:292: UserWarning: Couldn't retrieve source code for container of type Conv3d. It won't be checked for correctness upon loading.\n",
      "  \"type \" + obj.__name__ + \". It won't be checked \"\n",
      "/home/dshah/anaconda3/envs/pytorch/lib/python3.7/site-packages/torch/serialization.py:292: UserWarning: Couldn't retrieve source code for container of type BatchNorm3d. It won't be checked for correctness upon loading.\n",
      "  \"type \" + obj.__name__ + \". It won't be checked \"\n",
      "/home/dshah/anaconda3/envs/pytorch/lib/python3.7/site-packages/torch/serialization.py:292: UserWarning: Couldn't retrieve source code for container of type Dropout. It won't be checked for correctness upon loading.\n",
      "  \"type \" + obj.__name__ + \". It won't be checked \"\n",
      "/home/dshah/anaconda3/envs/pytorch/lib/python3.7/site-packages/torch/serialization.py:292: UserWarning: Couldn't retrieve source code for container of type Softmax. It won't be checked for correctness upon loading.\n",
      "  \"type \" + obj.__name__ + \". It won't be checked \"\n",
      "/home/dshah/anaconda3/envs/pytorch/lib/python3.7/site-packages/torch/serialization.py:292: UserWarning: Couldn't retrieve source code for container of type ReLU. It won't be checked for correctness upon loading.\n",
      "  \"type \" + obj.__name__ + \". It won't be checked \"\n",
      "/home/dshah/anaconda3/envs/pytorch/lib/python3.7/site-packages/torch/serialization.py:292: UserWarning: Couldn't retrieve source code for container of type Sigmoid. It won't be checked for correctness upon loading.\n",
      "  \"type \" + obj.__name__ + \". It won't be checked \"\n"
     ]
    }
   ],
   "source": [
    "# Model trained on ideal synthetic dataset\n",
    "os.makedirs(\"models\", exist_ok=True)\n",
    "model.save(\"models/deepvesselnet_final_batchnorm+dropout.model\")\n",
    "\n",
    "# # Model trained on noisy synthetic dataset\n",
    "# os.makedirs(\"models\", exist_ok=True)\n",
    "# model_noisy.save(\"models/deepvesselnet_noisy2.model\")"
   ]
  },
  {
   "cell_type": "code",
   "execution_count": null,
   "metadata": {
    "pycharm": {
     "name": "#%%\n"
    }
   },
   "outputs": [],
   "source": []
  }
 ],
 "metadata": {
  "kernelspec": {
   "display_name": "Python 3",
   "language": "python",
   "name": "python3"
  },
  "language_info": {
   "codemirror_mode": {
    "name": "ipython",
    "version": 3
   },
   "file_extension": ".py",
   "mimetype": "text/x-python",
   "name": "python",
   "nbconvert_exporter": "python",
   "pygments_lexer": "ipython3",
   "version": "3.7.6"
  },
  "pycharm": {
   "stem_cell": {
    "cell_type": "raw",
    "source": [],
    "metadata": {
     "collapsed": false
    }
   }
  }
 },
 "nbformat": 4,
 "nbformat_minor": 1
}