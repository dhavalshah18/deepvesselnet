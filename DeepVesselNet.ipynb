{
 "cells": [
  {
   "cell_type": "markdown",
   "metadata": {},
   "source": [
    "Imports\n",
    "============"
   ]
  },
  {
   "cell_type": "code",
   "execution_count": 1,
   "metadata": {
    "pycharm": {
     "is_executing": false,
     "name": "#%%\n"
    }
   },
   "outputs": [],
   "source": [
    "import numpy as np\n",
    "import matplotlib.pyplot as plt\n",
    "import torch\n",
    "from dvn.dvn_fcn import DeepVesselNetFCN\n",
    "from dvn.solver import Solver\n",
    "from dvn.data_utils import SyntheticData\n",
    "\n",
    "torch.set_default_tensor_type('torch.FloatTensor')\n",
    "# set up default cuda device\n",
    "device = torch.device(\"cuda:0\" if torch.cuda.is_available() else \"cpu\")\n",
    "# device = torch.device(\"cpu\")\n",
    "\n",
    "# for auto-reloading external modules\n",
    "# see http://stackoverflow.com/questions/1907993/autoreload-of-modules-in-ipython\n",
    "%load_ext autoreload\n",
    "%autoreload 2"
   ]
  },
  {
   "cell_type": "markdown",
   "metadata": {
    "pycharm": {
     "name": "#%% md\n"
    }
   },
   "source": [
    "Firstly we load the data\n",
    "============\n"
   ]
  },
  {
   "cell_type": "code",
   "execution_count": 2,
   "metadata": {
    "pycharm": {
     "is_executing": false,
     "name": "#%%\n"
    }
   },
   "outputs": [
    {
     "name": "stdout",
     "output_type": "stream",
     "text": [
      "DONE\n"
     ]
    }
   ],
   "source": [
    "patch_size=64\n",
    "\n",
    "train_synthetic = SyntheticData(root_path=\"./data/train/\", patch_size=patch_size)\n",
    "val_synthetic = SyntheticData(root_path=\"./data/val/\", patch_size=patch_size)\n",
    "\n",
    "print(\"DONE\")"
   ]
  },
  {
   "cell_type": "markdown",
   "metadata": {
    "pycharm": {
     "name": "#%% md\n"
    }
   },
   "source": [
    "Visualize part of the data\n",
    "============"
   ]
  },
  {
   "cell_type": "code",
   "execution_count": 3,
   "metadata": {
    "pycharm": {
     "is_executing": false,
     "name": "#%%\n"
    }
   },
   "outputs": [
    {
     "name": "stdout",
     "output_type": "stream",
     "text": [
      "Train size: 110\n",
      "Validation size: 26\n",
      "Img size:  torch.Size([1, 64, 64, 64])\n",
      "Segmentation size:  torch.Size([64, 64, 64])\n"
     ]
    }
   ],
   "source": [
    "print(\"Train size: %i\" % len(train_synthetic))\n",
    "print(\"Validation size: %i\" % len(val_synthetic))\n",
    "print(\"Img size: \", train_synthetic[0][0].size())\n",
    "print(\"Segmentation size: \", train_synthetic[0][1].size())"
   ]
  },
  {
   "cell_type": "markdown",
   "metadata": {
    "pycharm": {
     "name": "#%% md\n"
    }
   },
   "source": [
    "Design network \n",
    "============"
   ]
  },
  {
   "cell_type": "code",
   "execution_count": 4,
   "metadata": {
    "pycharm": {
     "is_executing": false,
     "name": "#%%\n"
    }
   },
   "outputs": [
    {
     "data": {
      "text/plain": [
       "DeepVesselNetFCN(\n",
       "  (conv1): Conv3d(1, 5, kernel_size=(3, 3, 3), stride=(1, 1, 1), padding=(1, 1, 1))\n",
       "  (conv2): Conv3d(5, 10, kernel_size=(5, 5, 5), stride=(1, 1, 1), padding=(2, 2, 2))\n",
       "  (conv3): Conv3d(10, 20, kernel_size=(5, 5, 5), stride=(1, 1, 1), padding=(2, 2, 2))\n",
       "  (conv4): Conv3d(20, 50, kernel_size=(3, 3, 3), stride=(1, 1, 1), padding=(1, 1, 1))\n",
       "  (fcn1): Conv3d(50, 2, kernel_size=(1, 1, 1), stride=(1, 1, 1))\n",
       "  (softmax): Softmax(dim=1)\n",
       "  (relu): ReLU(inplace=True)\n",
       "  (sigmoid): Sigmoid()\n",
       ")"
      ]
     },
     "execution_count": 4,
     "metadata": {},
     "output_type": "execute_result"
    }
   ],
   "source": [
    "train_loader = torch.utils.data.DataLoader(train_synthetic, batch_size=2, shuffle=True, num_workers=1)\n",
    "val_loader = torch.utils.data.DataLoader(val_synthetic, batch_size=1, shuffle=False, num_workers=1)\n",
    "\n",
    "model = DeepVesselNetFCN()\n",
    "model.to(device)"
   ]
  },
  {
   "cell_type": "markdown",
   "metadata": {
    "pycharm": {
     "is_executing": false,
     "name": "#%% md\n"
    }
   },
   "source": [
    "Train network\n",
    "============"
   ]
  },
  {
   "cell_type": "code",
   "execution_count": null,
   "metadata": {
    "pycharm": {
     "is_executing": true,
     "name": "#%%\n"
    }
   },
   "outputs": [
    {
     "name": "stdout",
     "output_type": "stream",
     "text": [
      "START TRAIN\n",
      "[Iteration 5/550] TRAIN loss: 0.555\n",
      "[Iteration 10/550] TRAIN loss: 0.511\n",
      "[Iteration 15/550] TRAIN loss: 0.511\n",
      "[Iteration 20/550] TRAIN loss: 0.509\n",
      "[Iteration 25/550] TRAIN loss: 0.506\n",
      "[Iteration 30/550] TRAIN loss: 0.507\n",
      "[Iteration 35/550] TRAIN loss: 0.506\n",
      "[Iteration 40/550] TRAIN loss: 0.505\n",
      "[Iteration 45/550] TRAIN loss: 0.504\n",
      "[Iteration 50/550] TRAIN loss: 0.503\n",
      "[Iteration 55/550] TRAIN loss: 0.505\n",
      "[Epoch 1/10] TRAIN acc/loss: 0.968/0.505\n",
      "[Epoch 1/10] VAL   acc/loss: 0.977/0.501\n",
      "[Iteration 60/550] TRAIN loss: 0.501\n",
      "[Iteration 65/550] TRAIN loss: 0.501\n",
      "[Iteration 70/550] TRAIN loss: 0.500\n",
      "[Iteration 75/550] TRAIN loss: 0.501\n",
      "[Iteration 80/550] TRAIN loss: 0.500\n",
      "[Iteration 85/550] TRAIN loss: 0.499\n",
      "[Iteration 90/550] TRAIN loss: 0.501\n",
      "[Iteration 95/550] TRAIN loss: 0.501\n",
      "[Iteration 100/550] TRAIN loss: 0.499\n",
      "[Iteration 105/550] TRAIN loss: 0.502\n",
      "[Iteration 110/550] TRAIN loss: 0.503\n",
      "[Epoch 2/10] TRAIN acc/loss: 0.975/0.503\n",
      "[Epoch 2/10] VAL   acc/loss: 0.981/0.499\n",
      "[Iteration 115/550] TRAIN loss: 0.502\n",
      "[Iteration 120/550] TRAIN loss: 0.499\n",
      "[Iteration 125/550] TRAIN loss: 0.502\n",
      "[Iteration 130/550] TRAIN loss: 0.504\n",
      "[Iteration 135/550] TRAIN loss: 0.501\n",
      "[Iteration 140/550] TRAIN loss: 0.500\n",
      "[Iteration 145/550] TRAIN loss: 0.502\n",
      "[Iteration 150/550] TRAIN loss: 0.500\n",
      "[Iteration 155/550] TRAIN loss: 0.501\n",
      "[Iteration 160/550] TRAIN loss: 0.501\n",
      "[Iteration 165/550] TRAIN loss: 0.502\n",
      "[Epoch 3/10] TRAIN acc/loss: 0.983/0.502\n",
      "[Epoch 3/10] VAL   acc/loss: 0.981/0.500\n",
      "[Iteration 170/550] TRAIN loss: 0.499\n",
      "[Iteration 175/550] TRAIN loss: 0.501\n",
      "[Iteration 180/550] TRAIN loss: 0.500\n",
      "[Iteration 185/550] TRAIN loss: 0.502\n",
      "[Iteration 190/550] TRAIN loss: 0.500\n",
      "[Iteration 195/550] TRAIN loss: 0.500\n",
      "[Iteration 200/550] TRAIN loss: 0.502\n",
      "[Iteration 205/550] TRAIN loss: 0.505\n",
      "[Iteration 210/550] TRAIN loss: 0.502\n",
      "[Iteration 215/550] TRAIN loss: 0.501\n",
      "[Iteration 220/550] TRAIN loss: 0.505\n",
      "[Epoch 4/10] TRAIN acc/loss: 0.977/0.505\n",
      "[Epoch 4/10] VAL   acc/loss: 0.981/0.501\n",
      "[Iteration 225/550] TRAIN loss: 0.504\n",
      "[Iteration 230/550] TRAIN loss: 0.503\n",
      "[Iteration 235/550] TRAIN loss: 0.505\n",
      "[Iteration 240/550] TRAIN loss: 0.501\n",
      "[Iteration 245/550] TRAIN loss: 0.501\n",
      "[Iteration 250/550] TRAIN loss: 0.500\n",
      "[Iteration 255/550] TRAIN loss: 0.502\n",
      "[Iteration 260/550] TRAIN loss: 0.506\n",
      "[Iteration 265/550] TRAIN loss: 0.502\n",
      "[Iteration 270/550] TRAIN loss: 0.501\n",
      "[Iteration 275/550] TRAIN loss: 0.505\n",
      "[Epoch 5/10] TRAIN acc/loss: 0.978/0.505\n",
      "[Epoch 5/10] VAL   acc/loss: 0.981/0.502\n",
      "[Iteration 280/550] TRAIN loss: 0.503\n",
      "[Iteration 285/550] TRAIN loss: 0.502\n",
      "[Iteration 290/550] TRAIN loss: 0.506\n",
      "[Iteration 295/550] TRAIN loss: 0.501\n",
      "[Iteration 300/550] TRAIN loss: 0.500\n",
      "[Iteration 305/550] TRAIN loss: 0.501\n",
      "[Iteration 310/550] TRAIN loss: 0.504\n",
      "[Iteration 315/550] TRAIN loss: 0.502\n",
      "[Iteration 320/550] TRAIN loss: 0.502\n",
      "[Iteration 325/550] TRAIN loss: 0.502\n",
      "[Iteration 330/550] TRAIN loss: 0.503\n",
      "[Epoch 6/10] TRAIN acc/loss: 0.975/0.503\n",
      "[Epoch 6/10] VAL   acc/loss: 0.981/0.502\n",
      "[Iteration 335/550] TRAIN loss: 0.504\n",
      "[Iteration 340/550] TRAIN loss: 0.503\n",
      "[Iteration 345/550] TRAIN loss: 0.503\n",
      "[Iteration 350/550] TRAIN loss: 0.504\n",
      "[Iteration 355/550] TRAIN loss: 0.501\n",
      "[Iteration 360/550] TRAIN loss: 0.500\n",
      "[Iteration 365/550] TRAIN loss: 0.505\n",
      "[Iteration 370/550] TRAIN loss: 0.507\n",
      "[Iteration 375/550] TRAIN loss: 0.502\n",
      "[Iteration 380/550] TRAIN loss: 0.502\n",
      "[Iteration 385/550] TRAIN loss: 0.505\n",
      "[Epoch 7/10] TRAIN acc/loss: 0.958/0.505\n",
      "[Epoch 7/10] VAL   acc/loss: 0.981/0.503\n",
      "[Iteration 390/550] TRAIN loss: 0.506\n",
      "[Iteration 395/550] TRAIN loss: 0.506\n",
      "[Iteration 400/550] TRAIN loss: 0.504\n",
      "[Iteration 405/550] TRAIN loss: 0.506\n",
      "[Iteration 410/550] TRAIN loss: 0.502\n",
      "[Iteration 415/550] TRAIN loss: 0.502\n",
      "[Iteration 420/550] TRAIN loss: 0.505\n",
      "[Iteration 425/550] TRAIN loss: 0.505\n",
      "[Iteration 430/550] TRAIN loss: 0.504\n",
      "[Iteration 435/550] TRAIN loss: 0.503\n",
      "[Iteration 440/550] TRAIN loss: 0.506\n",
      "[Epoch 8/10] TRAIN acc/loss: 0.963/0.506\n",
      "[Epoch 8/10] VAL   acc/loss: 0.981/0.503\n",
      "[Iteration 445/550] TRAIN loss: 0.504\n",
      "[Iteration 450/550] TRAIN loss: 0.503\n",
      "[Iteration 455/550] TRAIN loss: 0.507\n",
      "[Iteration 460/550] TRAIN loss: 0.502\n",
      "[Iteration 465/550] TRAIN loss: 0.505\n",
      "[Iteration 470/550] TRAIN loss: 0.502\n",
      "[Iteration 475/550] TRAIN loss: 0.506\n",
      "[Iteration 480/550] TRAIN loss: 0.504\n",
      "[Iteration 485/550] TRAIN loss: 0.507\n",
      "[Iteration 490/550] TRAIN loss: 0.506\n",
      "[Iteration 495/550] TRAIN loss: 0.507\n",
      "[Epoch 9/10] TRAIN acc/loss: 0.967/0.507\n",
      "[Epoch 9/10] VAL   acc/loss: 0.981/0.503\n",
      "[Iteration 500/550] TRAIN loss: 0.506\n",
      "[Iteration 505/550] TRAIN loss: 0.506\n",
      "[Iteration 510/550] TRAIN loss: 0.502\n",
      "[Iteration 515/550] TRAIN loss: 0.506\n",
      "[Iteration 520/550] TRAIN loss: 0.501\n",
      "[Iteration 525/550] TRAIN loss: 0.501\n",
      "[Iteration 530/550] TRAIN loss: 0.503\n",
      "[Iteration 535/550] TRAIN loss: 0.503\n",
      "[Iteration 540/550] TRAIN loss: 0.506\n"
     ]
    }
   ],
   "source": [
    "solver = Solver(optim_args={\"lr\": 0.01, \"weight_decay\": 0.99})\n",
    "solver.train(model, train_loader, val_loader, log_nth=5, num_epochs=10)\n"
   ]
  },
  {
   "cell_type": "markdown",
   "metadata": {
    "pycharm": {
     "name": "#%% md\n"
    }
   },
   "source": [
    "Test network\n",
    "============"
   ]
  },
  {
   "cell_type": "code",
   "execution_count": null,
   "metadata": {
    "pycharm": {
     "is_executing": true,
     "name": "#%%\n"
    }
   },
   "outputs": [],
   "source": []
  },
  {
   "cell_type": "markdown",
   "metadata": {
    "pycharm": {
     "name": "#%% md\n"
    }
   },
   "source": [
    "Visualization of network outputs\n",
    "============\n"
   ]
  },
  {
   "cell_type": "code",
   "execution_count": null,
   "metadata": {
    "pycharm": {
     "is_executing": true,
     "name": "#%% \n"
    }
   },
   "outputs": [],
   "source": [
    "num_example_imgs = 3\n",
    "plt.figure(figsize=(15, 5 * num_example_imgs))\n",
    "for i, (inputs, targets) in enumerate(train_loader[:num_example_imgs]):\n",
    "    inputs, targets = inputs.to(device, dtype=torch.float), targets.to(device, dtype=torch.long)\n",
    "    \n",
    "    outputs = model.forward(inputs)\n",
    "    _, preds = torch.max(outputs, 1)\n",
    "    pred = preds[0].data.cpu()\n",
    "    print(preds.shape)\n",
    "    print(pred.shape)\n",
    "\n",
    "    inputs, targets, pred = inputs.cpu().numpy(), targets.cpu().numpy(), pred.cpu().numpy()\n",
    "\n",
    "    # inputs\n",
    "    plt.subplot(num_example_imgs, 3, i * 3 + 1)\n",
    "    plt.axis('off')\n",
    "    plt.imshow(inputs[0,0,5])\n",
    "    if i == 0:\n",
    "        plt.title(\"Input image\")\n",
    "    \n",
    "    # target\n",
    "    plt.subplot(num_example_imgs, 3, i * 3 + 2)\n",
    "    plt.axis('off')\n",
    "    plt.imshow(targets[0,5])\n",
    "    if i == 0:\n",
    "        plt.title(\"Target image\")\n",
    "\n",
    "    # pred\n",
    "    plt.subplot(num_example_imgs, 3, i * 3 + 3)\n",
    "    plt.axis('off')\n",
    "    plt.imshow(pred[5])\n",
    "    if i == 0:\n",
    "        plt.title(\"Prediction image\")"
   ]
  },
  {
   "cell_type": "code",
   "execution_count": null,
   "metadata": {},
   "outputs": [],
   "source": []
  }
 ],
 "metadata": {
  "kernelspec": {
   "display_name": "Python 3",
   "language": "python",
   "name": "python3"
  },
  "language_info": {
   "codemirror_mode": {
    "name": "ipython",
    "version": 3
   },
   "file_extension": ".py",
   "mimetype": "text/x-python",
   "name": "python",
   "nbconvert_exporter": "python",
   "pygments_lexer": "ipython3",
   "version": "3.7.5"
  },
  "pycharm": {
   "stem_cell": {
    "cell_type": "raw",
    "metadata": {
     "collapsed": false
    },
    "source": []
   }
  }
 },
 "nbformat": 4,
 "nbformat_minor": 1
}
