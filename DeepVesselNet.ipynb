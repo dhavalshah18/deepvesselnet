{
 "cells": [
  {
   "cell_type": "markdown",
   "metadata": {},
   "source": [
    "Imports\n",
    "============"
   ]
  },
  {
   "cell_type": "code",
   "execution_count": 1,
   "metadata": {
    "pycharm": {
     "is_executing": false,
     "name": "#%%\n"
    }
   },
   "outputs": [],
   "source": [
    "import numpy as np\n",
    "import matplotlib.pyplot as plt\n",
    "import torch\n",
    "from dvn.dvn_fcn import DeepVesselNetFCN\n",
    "from dvn.solver import Solver\n",
    "from dvn.data_utils import SyntheticData\n",
    "\n",
    "torch.set_default_tensor_type('torch.FloatTensor')\n",
    "# set up default cuda device\n",
    "# device = torch.device(\"cuda:0\" if torch.cuda.is_available() else \"cpu\")\n",
    "device = torch.device(\"cpu\")\n",
    "\n",
    "# for auto-reloading external modules\n",
    "# see http://stackoverflow.com/questions/1907993/autoreload-of-modules-in-ipython\n",
    "%load_ext autoreload\n",
    "%autoreload 2"
   ]
  },
  {
   "cell_type": "markdown",
   "metadata": {
    "pycharm": {
     "name": "#%% md\n"
    }
   },
   "source": [
    "Firstly we load the data\n",
    "============\n"
   ]
  },
  {
   "cell_type": "code",
   "execution_count": 2,
   "metadata": {
    "pycharm": {
     "is_executing": false,
     "name": "#%%\n"
    }
   },
   "outputs": [
    {
     "name": "stdout",
     "output_type": "stream",
     "text": [
      "DONE\n"
     ]
    }
   ],
   "source": [
    "ps=64\n",
    "pn=100\n",
    "\n",
    "train_synthetic = SyntheticData(root_path=\"./data/train/\", patch_size=ps, patch_num=pn)\n",
    "val_synthetic = SyntheticData(root_path=\"./data/val/\", patch_size=ps, patch_num=pn)\n",
    "\n",
    "print(\"DONE\")"
   ]
  },
  {
   "cell_type": "markdown",
   "metadata": {
    "pycharm": {
     "name": "#%% md\n"
    }
   },
   "source": [
    "Visualize part of the data\n",
    "============"
   ]
  },
  {
   "cell_type": "code",
   "execution_count": 3,
   "metadata": {
    "pycharm": {
     "is_executing": false,
     "name": "#%%\n"
    }
   },
   "outputs": [
    {
     "name": "stdout",
     "output_type": "stream",
     "text": [
      "Train size: 110\n",
      "Validation size: 26\n",
      "Img size:  torch.Size([1, 64, 64, 64])\n",
      "Segmentation size:  torch.Size([1, 64, 64, 64])\n"
     ]
    }
   ],
   "source": [
    "print(\"Train size: %i\" % len(train_synthetic))\n",
    "print(\"Validation size: %i\" % len(val_synthetic))\n",
    "print(\"Img size: \", train_synthetic[0][0].size())\n",
    "print(\"Segmentation size: \", train_synthetic[0][1].size())\n",
    "\n",
    "# num_example_imgs = 3\n",
    "# plt.figure(figsize=(10, 5 * num_example_imgs))\n",
    "# for i, (img, target) in enumerate(train_synthetic[:num_example_imgs]):\n",
    "#     # img\n",
    "#     plt.subplot(num_example_imgs, 2, i * 2 + 1)\n",
    "#     plt.imshow(img[1].numpy())\n",
    "#     plt.axis('off')\n",
    "#     if i == 0:\n",
    "#         plt.title(\"Input image\")\n",
    "    \n",
    "#     # target\n",
    "#     plt.subplot(num_example_imgs, 2, i * 2 + 2)\n",
    "#     plt.imshow(target[1].numpy())\n",
    "#     plt.axis('off')\n",
    "#     if i == 0:\n",
    "#         plt.title(\"Target image\")\n",
    "# plt.show()"
   ]
  },
  {
   "cell_type": "markdown",
   "metadata": {
    "pycharm": {
     "name": "#%% md\n"
    }
   },
   "source": [
    "Design network \n",
    "============"
   ]
  },
  {
   "cell_type": "code",
   "execution_count": 4,
   "metadata": {
    "pycharm": {
     "is_executing": false,
     "name": "#%%\n"
    }
   },
   "outputs": [
    {
     "name": "stdout",
     "output_type": "stream",
     "text": [
      "START TRAIN\n",
      "[Iteration 5/25] TRAIN loss: 0.631\n",
      "[Epoch 1/5] TRAIN acc/loss: 0.948/0.631\n",
      "[Iteration 10/25] TRAIN loss: 0.354\n",
      "[Epoch 2/5] TRAIN acc/loss: 0.985/0.354\n",
      "[Iteration 15/25] TRAIN loss: 0.351\n",
      "[Epoch 3/5] TRAIN acc/loss: 0.958/0.351\n",
      "[Iteration 20/25] TRAIN loss: 0.350\n",
      "[Epoch 4/5] TRAIN acc/loss: 0.958/0.350\n",
      "[Iteration 25/25] TRAIN loss: 0.349\n",
      "[Epoch 5/5] TRAIN acc/loss: 0.958/0.349\n",
      "FINISH\n"
     ]
    }
   ],
   "source": [
    "train_loader = torch.utils.data.DataLoader(train_synthetic[0:5], batch_size=1, shuffle=True, num_workers=0)\n",
    "val_loader = torch.utils.data.DataLoader(val_synthetic[111:121], batch_size=1, shuffle=False, num_workers=0)\n",
    "\n",
    "model = DeepVesselNetFCN()\n",
    "model.to(device)\n",
    "\n",
    "solver = Solver(optim_args={\"lr\": 0.01, \"weight_decay\": 0.01})\n",
    "solver.train(model, train_loader, val_loader, log_nth=5, num_epochs=5)"
   ]
  },
  {
   "cell_type": "code",
   "execution_count": null,
   "metadata": {},
   "outputs": [],
   "source": []
  },
  {
   "cell_type": "markdown",
   "metadata": {
    "pycharm": {
     "name": "#%% md\n"
    }
   },
   "source": [
    "Train network\n",
    "============"
   ]
  },
  {
   "cell_type": "code",
   "execution_count": null,
   "metadata": {
    "pycharm": {
     "name": "#%%\n"
    }
   },
   "outputs": [],
   "source": []
  },
  {
   "cell_type": "markdown",
   "metadata": {
    "pycharm": {
     "name": "#%% md\n"
    }
   },
   "source": [
    "Test network\n",
    "============"
   ]
  },
  {
   "cell_type": "code",
   "execution_count": null,
   "metadata": {
    "pycharm": {
     "name": "#%%\n"
    }
   },
   "outputs": [],
   "source": []
  },
  {
   "cell_type": "markdown",
   "metadata": {
    "pycharm": {
     "name": "#%% md\n"
    }
   },
   "source": [
    "Visualization of network outputs\n",
    "============\n"
   ]
  },
  {
   "cell_type": "code",
   "execution_count": null,
   "metadata": {
    "pycharm": {
     "name": "#%% \n"
    }
   },
   "outputs": [],
   "source": []
  }
 ],
 "metadata": {
  "kernelspec": {
   "display_name": "Python 3",
   "language": "python",
   "name": "python3"
  },
  "language_info": {
   "codemirror_mode": {
    "name": "ipython",
    "version": 3
   },
   "file_extension": ".py",
   "mimetype": "text/x-python",
   "name": "python",
   "nbconvert_exporter": "python",
   "pygments_lexer": "ipython3",
   "version": "3.7.5"
  },
  "pycharm": {
   "stem_cell": {
    "cell_type": "raw",
    "metadata": {
     "collapsed": false
    },
    "source": []
   }
  }
 },
 "nbformat": 4,
 "nbformat_minor": 1
}
