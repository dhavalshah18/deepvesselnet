{
 "cells": [
  {
   "cell_type": "markdown",
   "metadata": {},
   "source": [
    "Imports\n",
    "============"
   ]
  },
  {
   "cell_type": "code",
   "execution_count": 1,
   "metadata": {
    "pycharm": {
     "is_executing": false,
     "name": "#%%\n"
    }
   },
   "outputs": [],
   "source": [
    "import numpy as np\n",
    "import matplotlib.pyplot as plt\n",
    "import torch\n",
    "import os\n",
    "\n",
    "from dvn.dvn_fcn import DeepVesselNetFCN\n",
    "from dvn.solver import Solver\n",
    "from dvn.data_utils import SyntheticData\n",
    "\n",
    "torch.set_default_tensor_type('torch.FloatTensor')\n",
    "# set up default cuda device\n",
    "device = torch.device(\"cuda:0\" if torch.cuda.is_available() else \"cpu\")\n",
    "# device = torch.device(\"cpu\")\n",
    "\n",
    "# for auto-reloading external modules\n",
    "# see http://stackoverflow.com/questions/1907993/autoreload-of-modules-in-ipython\n",
    "%load_ext autoreload\n",
    "%autoreload 2"
   ]
  },
  {
   "cell_type": "code",
   "execution_count": 2,
   "metadata": {},
   "outputs": [
    {
     "data": {
      "text/plain": [
       "'TITAN Xp'"
      ]
     },
     "execution_count": 2,
     "metadata": {},
     "output_type": "execute_result"
    }
   ],
   "source": [
    "torch.cuda.get_device_name(0)"
   ]
  },
  {
   "cell_type": "markdown",
   "metadata": {
    "pycharm": {
     "name": "#%% md\n"
    }
   },
   "source": [
    "Firstly we load the data\n",
    "============\n"
   ]
  },
  {
   "cell_type": "code",
   "execution_count": 3,
   "metadata": {
    "pycharm": {
     "is_executing": false,
     "name": "#%%\n"
    }
   },
   "outputs": [
    {
     "name": "stdout",
     "output_type": "stream",
     "text": [
      "DONE\n"
     ]
    }
   ],
   "source": [
    "patch_size=64\n",
    "\n",
    "train_synthetic = SyntheticData(root_path=\"./data/train/\", patch_size=patch_size)\n",
    "val_synthetic = SyntheticData(root_path=\"./data/val/\", patch_size=patch_size)\n",
    "\n",
    "print(\"DONE\")"
   ]
  },
  {
   "cell_type": "markdown",
   "metadata": {
    "pycharm": {
     "name": "#%% md\n"
    }
   },
   "source": [
    "Visualize part of the data\n",
    "============"
   ]
  },
  {
   "cell_type": "code",
   "execution_count": 4,
   "metadata": {
    "pycharm": {
     "is_executing": false,
     "name": "#%%\n"
    }
   },
   "outputs": [
    {
     "name": "stdout",
     "output_type": "stream",
     "text": [
      "Train size: 110\n",
      "Validation size: 26\n",
      "Img size:  torch.Size([1, 64, 64, 64])\n",
      "Segmentation size:  torch.Size([64, 64, 64])\n"
     ]
    }
   ],
   "source": [
    "print(\"Train size: %i\" % len(train_synthetic))\n",
    "print(\"Validation size: %i\" % len(val_synthetic))\n",
    "print(\"Img size: \", train_synthetic[0][0].size())\n",
    "print(\"Segmentation size: \", train_synthetic[0][1].size())"
   ]
  },
  {
   "cell_type": "markdown",
   "metadata": {
    "pycharm": {
     "name": "#%% md\n"
    }
   },
   "source": [
    "Design network \n",
    "============"
   ]
  },
  {
   "cell_type": "code",
   "execution_count": 5,
   "metadata": {
    "pycharm": {
     "is_executing": false,
     "name": "#%%\n"
    }
   },
   "outputs": [],
   "source": [
    "train_loader = torch.utils.data.DataLoader(train_synthetic, batch_size=10, shuffle=True, num_workers=1)\n",
    "val_loader = torch.utils.data.DataLoader(val_synthetic, batch_size=2, shuffle=False, num_workers=1)"
   ]
  },
  {
   "cell_type": "markdown",
   "metadata": {
    "pycharm": {
     "is_executing": false,
     "name": "#%% md\n"
    }
   },
   "source": [
    "Train network\n",
    "============"
   ]
  },
  {
   "cell_type": "code",
   "execution_count": 6,
   "metadata": {
    "pycharm": {
     "is_executing": true,
     "name": "#%%\n"
    }
   },
   "outputs": [
    {
     "name": "stdout",
     "output_type": "stream",
     "text": [
      "START TRAIN\n",
      "[Iteration 5/165] TRAIN loss: -6.101\n",
      "[Iteration 10/165] TRAIN loss: -7.613\n",
      "[Epoch 1/15] TRAIN acc/loss/dice: 0.969/-7.613/0.787\n",
      "[Epoch 1/15] VAL   acc/loss/dice: 0.023/-4.124/0.015\n",
      "[Iteration 16/165] TRAIN loss: -7.785\n",
      "[Iteration 21/165] TRAIN loss: -7.934\n",
      "[Epoch 2/15] TRAIN acc/loss/dice: 0.993/-7.934/0.923\n",
      "[Epoch 2/15] VAL   acc/loss/dice: 0.221/-4.729/0.181\n",
      "[Iteration 27/165] TRAIN loss: -8.682\n",
      "[Iteration 32/165] TRAIN loss: -8.353\n",
      "[Epoch 3/15] TRAIN acc/loss/dice: 0.993/-8.353/0.917\n",
      "[Epoch 3/15] VAL   acc/loss/dice: 0.990/-8.473/0.877\n",
      "[Iteration 38/165] TRAIN loss: -8.458\n",
      "[Iteration 43/165] TRAIN loss: -7.878\n",
      "[Epoch 4/15] TRAIN acc/loss/dice: 0.987/-7.878/0.867\n",
      "[Epoch 4/15] VAL   acc/loss/dice: 0.990/-8.486/0.880\n",
      "[Iteration 49/165] TRAIN loss: -7.888\n",
      "[Iteration 54/165] TRAIN loss: -7.911\n",
      "[Epoch 5/15] TRAIN acc/loss/dice: 0.991/-7.911/0.881\n",
      "[Epoch 5/15] VAL   acc/loss/dice: 0.997/-8.541/0.951\n",
      "[Iteration 60/165] TRAIN loss: -9.043\n",
      "[Iteration 65/165] TRAIN loss: -7.670\n",
      "[Epoch 6/15] TRAIN acc/loss/dice: 0.993/-7.670/0.919\n",
      "[Epoch 6/15] VAL   acc/loss/dice: 0.996/-8.554/0.950\n",
      "[Iteration 71/165] TRAIN loss: -8.797\n",
      "[Iteration 76/165] TRAIN loss: -8.290\n",
      "[Epoch 7/15] TRAIN acc/loss/dice: 0.993/-8.290/0.915\n",
      "[Epoch 7/15] VAL   acc/loss/dice: 0.997/-8.556/0.964\n",
      "[Iteration 82/165] TRAIN loss: -8.288\n",
      "[Iteration 87/165] TRAIN loss: -8.479\n",
      "[Epoch 8/15] TRAIN acc/loss/dice: 0.993/-8.479/0.920\n",
      "[Epoch 8/15] VAL   acc/loss/dice: 0.996/-8.560/0.949\n",
      "[Iteration 93/165] TRAIN loss: -8.057\n",
      "[Iteration 98/165] TRAIN loss: -7.754\n",
      "[Epoch 9/15] TRAIN acc/loss/dice: 0.994/-7.754/0.934\n",
      "[Epoch 9/15] VAL   acc/loss/dice: 0.997/-8.569/0.965\n",
      "[Iteration 104/165] TRAIN loss: -8.767\n",
      "[Iteration 109/165] TRAIN loss: -8.140\n",
      "[Epoch 10/15] TRAIN acc/loss/dice: 0.996/-8.140/0.938\n",
      "[Epoch 10/15] VAL   acc/loss/dice: 0.998/-8.471/0.976\n",
      "[Iteration 115/165] TRAIN loss: -8.940\n",
      "[Iteration 120/165] TRAIN loss: -8.274\n",
      "[Epoch 11/15] TRAIN acc/loss/dice: 0.995/-8.274/0.944\n",
      "[Epoch 11/15] VAL   acc/loss/dice: 0.997/-8.572/0.957\n",
      "[Iteration 126/165] TRAIN loss: -7.865\n",
      "[Iteration 131/165] TRAIN loss: -8.095\n",
      "[Epoch 12/15] TRAIN acc/loss/dice: 0.998/-8.095/0.972\n",
      "[Epoch 12/15] VAL   acc/loss/dice: 0.998/-8.570/0.976\n",
      "[Iteration 137/165] TRAIN loss: -8.774\n",
      "[Iteration 142/165] TRAIN loss: -8.212\n",
      "[Epoch 13/15] TRAIN acc/loss/dice: 0.998/-8.212/0.976\n",
      "[Epoch 13/15] VAL   acc/loss/dice: 0.998/-8.566/0.979\n",
      "[Iteration 148/165] TRAIN loss: -8.810\n",
      "[Iteration 153/165] TRAIN loss: -8.292\n",
      "[Epoch 14/15] TRAIN acc/loss/dice: 0.995/-8.292/0.936\n",
      "[Epoch 14/15] VAL   acc/loss/dice: 0.998/-8.582/0.974\n",
      "[Iteration 159/165] TRAIN loss: -8.452\n",
      "[Iteration 164/165] TRAIN loss: -7.956\n",
      "[Epoch 15/15] TRAIN acc/loss/dice: 0.996/-7.956/0.964\n",
      "[Epoch 15/15] VAL   acc/loss/dice: 0.998/-8.585/0.972\n",
      "FINISH\n"
     ]
    }
   ],
   "source": [
    "model = DeepVesselNetFCN()\n",
    "model.to(device)\n",
    "\n",
    "optim_args_SGD = {\"lr\": 1e-2, \"weight_decay\": 0.01, \"momentum\": 0.9, \"nesterov\":True}\n",
    "optim_args_ADAM = {\"lr\": 1e-2, \"weight_decay\": 0}\n",
    "\n",
    "solver = Solver(optim_args=optim_args_SGD, optim=torch.optim.SGD)\n",
    "solver.train(model, train_loader, val_loader, log_nth=5, num_epochs=15)"
   ]
  },
  {
   "cell_type": "markdown",
   "metadata": {
    "pycharm": {
     "name": "#%% md\n"
    }
   },
   "source": [
    "Test network\n",
    "============"
   ]
  },
  {
   "cell_type": "code",
   "execution_count": null,
   "metadata": {
    "pycharm": {
     "is_executing": true,
     "name": "#%%\n"
    }
   },
   "outputs": [],
   "source": []
  },
  {
   "cell_type": "markdown",
   "metadata": {
    "pycharm": {
     "name": "#%% md\n"
    }
   },
   "source": [
    "Visualization of network outputs\n",
    "============\n"
   ]
  },
  {
   "cell_type": "code",
   "execution_count": 7,
   "metadata": {
    "pycharm": {
     "is_executing": true,
     "name": "#%% \n"
    }
   },
   "outputs": [
    {
     "data": {
      "image/png": "[encoded data removed]",
      "text/plain": [
       "<Figure size 1080x1080 with 9 Axes>"
      ]
     },
     "metadata": {
      "needs_background": "light"
     },
     "output_type": "display_data"
    }
   ],
   "source": [
    "model = model.best_val_model\n",
    "num_example_imgs = 3\n",
    "plt.figure(figsize=(15, 5 * num_example_imgs))\n",
    "model.eval()\n",
    "for i, (inputs, targets) in enumerate(val_synthetic[:num_example_imgs]):\n",
    "    \n",
    "    inputs, targets = inputs.to(device, dtype=torch.float).unsqueeze(0), targets.to(device)\n",
    "    \n",
    "    outputs = model.forward(inputs)\n",
    "    _, preds = torch.max(outputs, 1)\n",
    "\n",
    "    inputs, targets, preds = inputs.cpu().numpy(), targets.cpu().numpy(), preds.squeeze(0).cpu().numpy()\n",
    "    \n",
    "    # inputs\n",
    "    plt.subplot(num_example_imgs, 3, i * 3 + 1)\n",
    "    plt.axis('off')\n",
    "    plt.imshow(inputs[0,0,5])\n",
    "    if i == 0:\n",
    "        plt.title(\"Input image\")\n",
    "    \n",
    "    # target\n",
    "    plt.subplot(num_example_imgs, 3, i * 3 + 2)\n",
    "    plt.axis('off')\n",
    "    plt.imshow(targets[5])\n",
    "    if i == 0:\n",
    "        plt.title(\"Target image\")\n",
    "\n",
    "    # pred\n",
    "    plt.subplot(num_example_imgs, 3, i * 3 + 3)\n",
    "    plt.axis('off')\n",
    "    plt.imshow(preds[5])\n",
    "    if i == 0:\n",
    "        plt.title(\"Prediction image\")"
   ]
  },
  {
   "cell_type": "code",
   "execution_count": 8,
   "metadata": {},
   "outputs": [
    {
     "name": "stdout",
     "output_type": "stream",
     "text": [
      "Saving model... models/deepvesselnet4.model\n"
     ]
    },
    {
     "name": "stderr",
     "output_type": "stream",
     "text": [
      "/home/dshah/anaconda3/envs/pytorch/lib/python3.7/site-packages/torch/serialization.py:292: UserWarning: Couldn't retrieve source code for container of type DeepVesselNetFCN. It won't be checked for correctness upon loading.\n",
      "  \"type \" + obj.__name__ + \". It won't be checked \"\n",
      "/home/dshah/anaconda3/envs/pytorch/lib/python3.7/site-packages/torch/serialization.py:292: UserWarning: Couldn't retrieve source code for container of type Conv3d. It won't be checked for correctness upon loading.\n",
      "  \"type \" + obj.__name__ + \". It won't be checked \"\n",
      "/home/dshah/anaconda3/envs/pytorch/lib/python3.7/site-packages/torch/serialization.py:292: UserWarning: Couldn't retrieve source code for container of type BatchNorm3d. It won't be checked for correctness upon loading.\n",
      "  \"type \" + obj.__name__ + \". It won't be checked \"\n",
      "/home/dshah/anaconda3/envs/pytorch/lib/python3.7/site-packages/torch/serialization.py:292: UserWarning: Couldn't retrieve source code for container of type Dropout. It won't be checked for correctness upon loading.\n",
      "  \"type \" + obj.__name__ + \". It won't be checked \"\n",
      "/home/dshah/anaconda3/envs/pytorch/lib/python3.7/site-packages/torch/serialization.py:292: UserWarning: Couldn't retrieve source code for container of type Softmax. It won't be checked for correctness upon loading.\n",
      "  \"type \" + obj.__name__ + \". It won't be checked \"\n",
      "/home/dshah/anaconda3/envs/pytorch/lib/python3.7/site-packages/torch/serialization.py:292: UserWarning: Couldn't retrieve source code for container of type ReLU. It won't be checked for correctness upon loading.\n",
      "  \"type \" + obj.__name__ + \". It won't be checked \"\n",
      "/home/dshah/anaconda3/envs/pytorch/lib/python3.7/site-packages/torch/serialization.py:292: UserWarning: Couldn't retrieve source code for container of type Sigmoid. It won't be checked for correctness upon loading.\n",
      "  \"type \" + obj.__name__ + \". It won't be checked \"\n"
     ]
    }
   ],
   "source": []
  },
  {
   "cell_type": "markdown",
   "metadata": {},
   "source": [
    "Noisy data\n",
    "============\n"
   ]
  },
  {
   "cell_type": "code",
   "execution_count": 3,
   "metadata": {},
   "outputs": [
    {
     "name": "stdout",
     "output_type": "stream",
     "text": [
      "DONE\n",
      "START TRAIN\n",
      "[Iteration 5/110] TRAIN loss: -5.025\n",
      "[Iteration 10/110] TRAIN loss: -5.800\n",
      "[Epoch 1/10] TRAIN acc/loss/dice: 0.963/-5.800/0.584\n",
      "[Epoch 1/10] VAL   acc/loss/dice: 0.066/-3.923/0.055\n",
      "[Iteration 16/110] TRAIN loss: -7.000\n",
      "[Iteration 21/110] TRAIN loss: -7.016\n",
      "[Epoch 2/10] TRAIN acc/loss/dice: 0.953/-7.016/0.700\n",
      "[Epoch 2/10] VAL   acc/loss/dice: 0.271/-4.536/0.468\n",
      "[Iteration 27/110] TRAIN loss: -7.564\n",
      "[Iteration 32/110] TRAIN loss: -7.522\n",
      "[Epoch 3/10] TRAIN acc/loss/dice: 0.979/-7.522/0.804\n",
      "[Epoch 3/10] VAL   acc/loss/dice: 0.964/-7.666/0.732\n",
      "[Iteration 38/110] TRAIN loss: -8.727\n",
      "[Iteration 43/110] TRAIN loss: -7.682\n",
      "[Epoch 4/10] TRAIN acc/loss/dice: 0.974/-7.682/0.784\n",
      "[Epoch 4/10] VAL   acc/loss/dice: 0.972/-7.618/0.790\n",
      "[Iteration 49/110] TRAIN loss: -7.917\n",
      "[Iteration 54/110] TRAIN loss: -7.772\n",
      "[Epoch 5/10] TRAIN acc/loss/dice: 0.986/-7.772/0.871\n",
      "[Epoch 5/10] VAL   acc/loss/dice: 0.703/-6.426/0.658\n",
      "[Iteration 60/110] TRAIN loss: -7.648\n",
      "[Iteration 65/110] TRAIN loss: -7.725\n",
      "[Epoch 6/10] TRAIN acc/loss/dice: 0.985/-7.725/0.829\n",
      "[Epoch 6/10] VAL   acc/loss/dice: 0.981/-7.863/0.857\n",
      "[Iteration 71/110] TRAIN loss: -8.735\n",
      "[Iteration 76/110] TRAIN loss: -7.067\n",
      "[Epoch 7/10] TRAIN acc/loss/dice: 0.985/-7.067/0.848\n",
      "[Epoch 7/10] VAL   acc/loss/dice: 0.988/-7.919/0.884\n",
      "[Iteration 82/110] TRAIN loss: -8.690\n",
      "[Iteration 87/110] TRAIN loss: -8.412\n",
      "[Epoch 8/10] TRAIN acc/loss/dice: 0.985/-8.412/0.821\n",
      "[Epoch 8/10] VAL   acc/loss/dice: 0.986/-7.950/0.848\n",
      "[Iteration 93/110] TRAIN loss: -8.807\n",
      "[Iteration 98/110] TRAIN loss: -8.088\n",
      "[Epoch 9/10] TRAIN acc/loss/dice: 0.988/-8.088/0.868\n",
      "[Epoch 9/10] VAL   acc/loss/dice: 0.985/-7.944/0.854\n",
      "[Iteration 104/110] TRAIN loss: -8.792\n",
      "[Iteration 109/110] TRAIN loss: -8.315\n",
      "[Epoch 10/10] TRAIN acc/loss/dice: 0.987/-8.315/0.853\n",
      "[Epoch 10/10] VAL   acc/loss/dice: 0.976/-7.876/0.824\n",
      "FINISH\n"
     ]
    }
   ],
   "source": [
    "patch_size=64\n",
    "\n",
    "train_synthetic_noisy = SyntheticData(root_path=\"./noisy_data/train/\", patch_size=patch_size)\n",
    "val_synthetic_noisy = SyntheticData(root_path=\"./noisy_data/val/\", patch_size=patch_size)\n",
    "\n",
    "print(\"DONE\")\n",
    "\n",
    "train_noisy_loader = torch.utils.data.DataLoader(train_synthetic_noisy, \n",
    "                                                  batch_size=10, shuffle=True, num_workers=1)\n",
    "val_noisy_loader = torch.utils.data.DataLoader(val_synthetic_noisy, \n",
    "                                                batch_size=2, shuffle=False, num_workers=1)\n",
    "\n",
    "model_noisy = DeepVesselNetFCN(dropout=True)\n",
    "model_noisy.to(device)\n",
    "\n",
    "optim_args_SGD = {\"lr\": 1e-2, \"weight_decay\": 0, \"momentum\": 0.9, \"nesterov\":True}\n",
    "optim_args_Adam = {\"lr\": 1e-2, \"weight_decay\": 0}\n",
    "\n",
    "solver_noisy = Solver(optim_args=optim_args_SGD, optim=torch.optim.SGD)\n",
    "solver_noisy.train(model_noisy, train_noisy_loader, val_noisy_loader, log_nth=5, num_epochs=10)"
   ]
  },
  {
   "cell_type": "code",
   "execution_count": 5,
   "metadata": {},
   "outputs": [
    {
     "ename": "AttributeError",
     "evalue": "'DeepVesselNetFCN' object has no attribute 'best_train_model'",
     "output_type": "error",
     "traceback": [
      "\u001b[0;31m-------------------------------------------------------\u001b[0m",
      "\u001b[0;31mAttributeError\u001b[0m        Traceback (most recent call last)",
      "\u001b[0;32m<ipython-input-5-eacad4f4e629>\u001b[0m in \u001b[0;36m<module>\u001b[0;34m\u001b[0m\n\u001b[0;32m----> 1\u001b[0;31m \u001b[0mmodel_noisy\u001b[0m \u001b[0;34m=\u001b[0m \u001b[0mmodel_noisy\u001b[0m\u001b[0;34m.\u001b[0m\u001b[0mbest_train_model\u001b[0m\u001b[0;34m\u001b[0m\u001b[0;34m\u001b[0m\u001b[0m\n\u001b[0m\u001b[1;32m      2\u001b[0m \u001b[0mnum_example_imgs\u001b[0m \u001b[0;34m=\u001b[0m \u001b[0;36m5\u001b[0m\u001b[0;34m\u001b[0m\u001b[0;34m\u001b[0m\u001b[0m\n\u001b[1;32m      3\u001b[0m \u001b[0mplt\u001b[0m\u001b[0;34m.\u001b[0m\u001b[0mfigure\u001b[0m\u001b[0;34m(\u001b[0m\u001b[0mfigsize\u001b[0m\u001b[0;34m=\u001b[0m\u001b[0;34m(\u001b[0m\u001b[0;36m15\u001b[0m\u001b[0;34m,\u001b[0m \u001b[0;36m5\u001b[0m \u001b[0;34m*\u001b[0m \u001b[0mnum_example_imgs\u001b[0m\u001b[0;34m)\u001b[0m\u001b[0;34m)\u001b[0m\u001b[0;34m\u001b[0m\u001b[0;34m\u001b[0m\u001b[0m\n\u001b[1;32m      4\u001b[0m \u001b[0mmodel_noisy\u001b[0m\u001b[0;34m.\u001b[0m\u001b[0meval\u001b[0m\u001b[0;34m(\u001b[0m\u001b[0;34m)\u001b[0m\u001b[0;34m\u001b[0m\u001b[0;34m\u001b[0m\u001b[0m\n\u001b[1;32m      5\u001b[0m \u001b[0;32mfor\u001b[0m \u001b[0mi\u001b[0m\u001b[0;34m,\u001b[0m \u001b[0;34m(\u001b[0m\u001b[0minputs\u001b[0m\u001b[0;34m,\u001b[0m \u001b[0mtargets\u001b[0m\u001b[0;34m)\u001b[0m \u001b[0;32min\u001b[0m \u001b[0menumerate\u001b[0m\u001b[0;34m(\u001b[0m\u001b[0mval_synthetic\u001b[0m\u001b[0;34m[\u001b[0m\u001b[0;34m:\u001b[0m\u001b[0mnum_example_imgs\u001b[0m\u001b[0;34m]\u001b[0m\u001b[0;34m)\u001b[0m\u001b[0;34m:\u001b[0m\u001b[0;34m\u001b[0m\u001b[0;34m\u001b[0m\u001b[0m\n",
      "\u001b[0;32m~/anaconda3/envs/pytorch/lib/python3.7/site-packages/torch/nn/modules/module.py\u001b[0m in \u001b[0;36m__getattr__\u001b[0;34m(self, name)\u001b[0m\n\u001b[1;32m    583\u001b[0m                 \u001b[0;32mreturn\u001b[0m \u001b[0mmodules\u001b[0m\u001b[0;34m[\u001b[0m\u001b[0mname\u001b[0m\u001b[0;34m]\u001b[0m\u001b[0;34m\u001b[0m\u001b[0;34m\u001b[0m\u001b[0m\n\u001b[1;32m    584\u001b[0m         raise AttributeError(\"'{}' object has no attribute '{}'\".format(\n\u001b[0;32m--> 585\u001b[0;31m             type(self).__name__, name))\n\u001b[0m\u001b[1;32m    586\u001b[0m \u001b[0;34m\u001b[0m\u001b[0m\n\u001b[1;32m    587\u001b[0m     \u001b[0;32mdef\u001b[0m \u001b[0m__setattr__\u001b[0m\u001b[0;34m(\u001b[0m\u001b[0mself\u001b[0m\u001b[0;34m,\u001b[0m \u001b[0mname\u001b[0m\u001b[0;34m,\u001b[0m \u001b[0mvalue\u001b[0m\u001b[0;34m)\u001b[0m\u001b[0;34m:\u001b[0m\u001b[0;34m\u001b[0m\u001b[0;34m\u001b[0m\u001b[0m\n",
      "\u001b[0;31mAttributeError\u001b[0m: 'DeepVesselNetFCN' object has no attribute 'best_train_model'"
     ]
    }
   ],
   "source": [
    "model_noisy = model_noisy.best_val_model\n",
    "num_example_imgs = 5\n",
    "plt.figure(figsize=(15, 5 * num_example_imgs))\n",
    "model_noisy.eval()\n",
    "for i, (inputs, targets) in enumerate(val_synthetic[:num_example_imgs]):\n",
    "    \n",
    "    inputs, targets = inputs.to(device, dtype=torch.float).unsqueeze(0), targets.to(device)\n",
    "    \n",
    "    outputs = model_noisy.forward(inputs)\n",
    "    _, preds = torch.max(outputs, 1)\n",
    "\n",
    "    inputs, targets, preds = inputs.cpu().numpy(), targets.cpu().numpy(), preds.squeeze(0).cpu().numpy()\n",
    "    \n",
    "    # inputs\n",
    "    plt.subplot(num_example_imgs, 3, i * 3 + 1)\n",
    "    plt.axis('off')\n",
    "    plt.imshow(inputs[0,0,5])\n",
    "    if i == 0:\n",
    "        plt.title(\"Input image\")\n",
    "    \n",
    "    # target\n",
    "    plt.subplot(num_example_imgs, 3, i * 3 + 2)\n",
    "    plt.axis('off')\n",
    "    plt.imshow(targets[5])\n",
    "    if i == 0:\n",
    "        plt.title(\"Target image\")\n",
    "\n",
    "    # pred\n",
    "    plt.subplot(num_example_imgs, 3, i * 3 + 3)\n",
    "    plt.axis('off')\n",
    "    plt.imshow(preds[5])\n",
    "    if i == 0:\n",
    "        plt.title(\"Prediction image\")\n"
   ]
  },
  {
   "cell_type": "markdown",
   "source": [
    "## Save models"
   ],
   "metadata": {
    "collapsed": false,
    "pycharm": {
     "name": "#%% md\n"
    }
   }
  },
  {
   "cell_type": "code",
   "execution_count": 6,
   "metadata": {
    "pycharm": {
     "name": "#%%\n"
    }
   },
   "outputs": [
    {
     "name": "stdout",
     "output_type": "stream",
     "text": [
      "Saving model... models/deepvesselnet_noisy1.model\n"
     ]
    },
    {
     "name": "stderr",
     "output_type": "stream",
     "text": [
      "/home/dshah/anaconda3/envs/pytorch/lib/python3.7/site-packages/torch/serialization.py:292: UserWarning: Couldn't retrieve source code for container of type DeepVesselNetFCN. It won't be checked for correctness upon loading.\n",
      "  \"type \" + obj.__name__ + \". It won't be checked \"\n",
      "/home/dshah/anaconda3/envs/pytorch/lib/python3.7/site-packages/torch/serialization.py:292: UserWarning: Couldn't retrieve source code for container of type Conv3d. It won't be checked for correctness upon loading.\n",
      "  \"type \" + obj.__name__ + \". It won't be checked \"\n",
      "/home/dshah/anaconda3/envs/pytorch/lib/python3.7/site-packages/torch/serialization.py:292: UserWarning: Couldn't retrieve source code for container of type BatchNorm3d. It won't be checked for correctness upon loading.\n",
      "  \"type \" + obj.__name__ + \". It won't be checked \"\n",
      "/home/dshah/anaconda3/envs/pytorch/lib/python3.7/site-packages/torch/serialization.py:292: UserWarning: Couldn't retrieve source code for container of type Dropout. It won't be checked for correctness upon loading.\n",
      "  \"type \" + obj.__name__ + \". It won't be checked \"\n",
      "/home/dshah/anaconda3/envs/pytorch/lib/python3.7/site-packages/torch/serialization.py:292: UserWarning: Couldn't retrieve source code for container of type Softmax. It won't be checked for correctness upon loading.\n",
      "  \"type \" + obj.__name__ + \". It won't be checked \"\n",
      "/home/dshah/anaconda3/envs/pytorch/lib/python3.7/site-packages/torch/serialization.py:292: UserWarning: Couldn't retrieve source code for container of type ReLU. It won't be checked for correctness upon loading.\n",
      "  \"type \" + obj.__name__ + \". It won't be checked \"\n",
      "/home/dshah/anaconda3/envs/pytorch/lib/python3.7/site-packages/torch/serialization.py:292: UserWarning: Couldn't retrieve source code for container of type Sigmoid. It won't be checked for correctness upon loading.\n",
      "  \"type \" + obj.__name__ + \". It won't be checked \"\n"
     ]
    }
   ],
   "source": [
    "# Model trained on ideal synthetic dataset\n",
    "os.makedirs(\"models\", exist_ok=True)\n",
    "model.save(\"models/deepvesselnet5.model\")\n",
    "\n",
    "# Model trained on noisy synthetic dataset\n",
    "os.makedirs(\"models\", exist_ok=True)\n",
    "model_noisy.save(\"models/deepvesselnet_noisy1.model\")"
   ]
  }
 ],
 "metadata": {
  "kernelspec": {
   "display_name": "Python 3",
   "language": "python",
   "name": "python3"
  },
  "language_info": {
   "codemirror_mode": {
    "name": "ipython",
    "version": 3
   },
   "file_extension": ".py",
   "mimetype": "text/x-python",
   "name": "python",
   "nbconvert_exporter": "python",
   "pygments_lexer": "ipython3",
   "version": "3.7.5"
  },
  "pycharm": {
   "stem_cell": {
    "cell_type": "raw",
    "source": [],
    "metadata": {
     "collapsed": false
    }
   }
  }
 },
 "nbformat": 4,
 "nbformat_minor": 1
}