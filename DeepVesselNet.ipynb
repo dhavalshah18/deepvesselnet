{
 "cells": [
  {
   "cell_type": "markdown",
   "metadata": {},
   "source": [
    "Imports\n",
    "============"
   ]
  },
  {
   "cell_type": "code",
   "execution_count": 1,
   "metadata": {
    "pycharm": {
     "is_executing": false,
     "name": "#%%\n"
    }
   },
   "outputs": [],
   "source": [
    "import numpy as np\n",
    "import matplotlib.pyplot as plt\n",
    "import torch\n",
    "from dvn.dvn_fcn import DeepVesselNetFCN\n",
    "from dvn.solver import Solver\n",
    "from dvn.data_utils import SyntheticData\n",
    "\n",
    "torch.set_default_tensor_type('torch.FloatTensor')\n",
    "# set up default cuda device\n",
    "device = torch.device(\"cuda:0\" if torch.cuda.is_available() else \"cpu\")\n",
    "# device = torch.device(\"cpu\")\n",
    "\n",
    "# for auto-reloading external modules\n",
    "# see http://stackoverflow.com/questions/1907993/autoreload-of-modules-in-ipython\n",
    "%load_ext autoreload\n",
    "%autoreload 2"
   ]
  },
  {
   "cell_type": "code",
   "execution_count": 2,
   "metadata": {},
   "outputs": [
    {
     "data": {
      "text/plain": [
       "'TITAN Xp'"
      ]
     },
     "execution_count": 2,
     "metadata": {},
     "output_type": "execute_result"
    }
   ],
   "source": [
    "torch.cuda.get_device_name(0)"
   ]
  },
  {
   "cell_type": "markdown",
   "metadata": {
    "pycharm": {
     "name": "#%% md\n"
    }
   },
   "source": [
    "Firstly we load the data\n",
    "============\n"
   ]
  },
  {
   "cell_type": "code",
   "execution_count": 3,
   "metadata": {
    "pycharm": {
     "is_executing": false,
     "name": "#%%\n"
    }
   },
   "outputs": [
    {
     "name": "stdout",
     "output_type": "stream",
     "text": [
      "DONE\n"
     ]
    }
   ],
   "source": [
    "patch_size=64\n",
    "\n",
    "train_synthetic = SyntheticData(root_path=\"./data/train/\", patch_size=patch_size)\n",
    "val_synthetic = SyntheticData(root_path=\"./data/val/\", patch_size=patch_size)\n",
    "\n",
    "print(\"DONE\")"
   ]
  },
  {
   "cell_type": "markdown",
   "metadata": {
    "pycharm": {
     "name": "#%% md\n"
    }
   },
   "source": [
    "Visualize part of the data\n",
    "============"
   ]
  },
  {
   "cell_type": "code",
   "execution_count": 4,
   "metadata": {
    "pycharm": {
     "is_executing": false,
     "name": "#%%\n"
    }
   },
   "outputs": [
    {
     "name": "stdout",
     "output_type": "stream",
     "text": [
      "Train size: 110\n",
      "Validation size: 26\n",
      "Img size:  torch.Size([1, 64, 64, 64])\n",
      "Segmentation size:  torch.Size([64, 64, 64])\n"
     ]
    }
   ],
   "source": [
    "print(\"Train size: %i\" % len(train_synthetic))\n",
    "print(\"Validation size: %i\" % len(val_synthetic))\n",
    "print(\"Img size: \", train_synthetic[0][0].size())\n",
    "print(\"Segmentation size: \", train_synthetic[0][1].size())"
   ]
  },
  {
   "cell_type": "markdown",
   "metadata": {
    "pycharm": {
     "name": "#%% md\n"
    }
   },
   "source": [
    "Design network \n",
    "============"
   ]
  },
  {
   "cell_type": "code",
   "execution_count": 5,
   "metadata": {
    "pycharm": {
     "is_executing": false,
     "name": "#%%\n"
    }
   },
   "outputs": [],
   "source": [
    "train_loader = torch.utils.data.DataLoader(train_synthetic, batch_size=10, shuffle=True, num_workers=1)\n",
    "val_loader = torch.utils.data.DataLoader(val_synthetic, batch_size=2, shuffle=False, num_workers=1)"
   ]
  },
  {
   "cell_type": "markdown",
   "metadata": {
    "pycharm": {
     "is_executing": false,
     "name": "#%% md\n"
    }
   },
   "source": [
    "Train network\n",
    "============"
   ]
  },
  {
   "cell_type": "code",
   "execution_count": null,
   "metadata": {
    "pycharm": {
     "is_executing": true,
     "name": "#%%\n"
    }
   },
   "outputs": [
    {
     "name": "stdout",
     "output_type": "stream",
     "text": [
      "START TRAIN\n",
      "[Iteration 1/110] TRAIN loss: 0.994\n",
      "[Iteration 2/110] TRAIN loss: 0.992\n",
      "[Iteration 3/110] TRAIN loss: 0.990\n",
      "[Iteration 4/110] TRAIN loss: 0.990\n",
      "[Iteration 5/110] TRAIN loss: 0.991\n",
      "[Iteration 6/110] TRAIN loss: 0.992\n",
      "[Iteration 7/110] TRAIN loss: 0.991\n",
      "[Iteration 8/110] TRAIN loss: 0.988\n",
      "[Iteration 9/110] TRAIN loss: 0.986\n",
      "[Iteration 10/110] TRAIN loss: 0.994\n",
      "[Iteration 11/110] TRAIN loss: 0.991\n",
      "[Epoch 1/10] TRAIN acc/loss: 0.951/0.991\n",
      "[Epoch 1/10] VAL   acc/loss: 0.955/0.992\n",
      "[Iteration 12/110] TRAIN loss: 0.994\n",
      "[Iteration 13/110] TRAIN loss: 0.992\n",
      "[Iteration 14/110] TRAIN loss: 0.993\n",
      "[Iteration 15/110] TRAIN loss: 0.993\n",
      "[Iteration 16/110] TRAIN loss: 0.988\n",
      "[Iteration 17/110] TRAIN loss: 0.991\n",
      "[Iteration 18/110] TRAIN loss: 0.988\n",
      "[Iteration 19/110] TRAIN loss: 0.993\n",
      "[Iteration 20/110] TRAIN loss: 0.989\n",
      "[Iteration 21/110] TRAIN loss: 0.991\n",
      "[Iteration 22/110] TRAIN loss: 0.988\n",
      "[Epoch 2/10] TRAIN acc/loss: 0.950/0.988\n",
      "[Epoch 2/10] VAL   acc/loss: 0.955/0.992\n",
      "[Iteration 23/110] TRAIN loss: 0.992\n",
      "[Iteration 24/110] TRAIN loss: 0.994\n",
      "[Iteration 25/110] TRAIN loss: 0.992\n",
      "[Iteration 26/110] TRAIN loss: 0.989\n",
      "[Iteration 27/110] TRAIN loss: 0.991\n",
      "[Iteration 28/110] TRAIN loss: 0.992\n",
      "[Iteration 29/110] TRAIN loss: 0.990\n",
      "[Iteration 30/110] TRAIN loss: 0.992\n",
      "[Iteration 31/110] TRAIN loss: 0.989\n",
      "[Iteration 32/110] TRAIN loss: 0.992\n",
      "[Iteration 33/110] TRAIN loss: 0.987\n",
      "[Epoch 3/10] TRAIN acc/loss: 0.949/0.987\n",
      "[Epoch 3/10] VAL   acc/loss: 0.955/0.992\n",
      "[Iteration 34/110] TRAIN loss: 0.990\n",
      "[Iteration 35/110] TRAIN loss: 0.992\n",
      "[Iteration 36/110] TRAIN loss: 0.990\n",
      "[Iteration 37/110] TRAIN loss: 0.990\n",
      "[Iteration 38/110] TRAIN loss: 0.992\n",
      "[Iteration 39/110] TRAIN loss: 0.994\n",
      "[Iteration 40/110] TRAIN loss: 0.987\n",
      "[Iteration 41/110] TRAIN loss: 0.992\n",
      "[Iteration 42/110] TRAIN loss: 0.995\n",
      "[Iteration 43/110] TRAIN loss: 0.994\n",
      "[Iteration 44/110] TRAIN loss: 0.987\n",
      "[Epoch 4/10] TRAIN acc/loss: 0.949/0.987\n",
      "[Epoch 4/10] VAL   acc/loss: 0.955/0.992\n",
      "[Iteration 45/110] TRAIN loss: 0.992\n",
      "[Iteration 46/110] TRAIN loss: 0.990\n",
      "[Iteration 47/110] TRAIN loss: 0.994\n",
      "[Iteration 48/110] TRAIN loss: 0.992\n",
      "[Iteration 49/110] TRAIN loss: 0.987\n",
      "[Iteration 50/110] TRAIN loss: 0.994\n",
      "[Iteration 51/110] TRAIN loss: 0.993\n",
      "[Iteration 52/110] TRAIN loss: 0.991\n",
      "[Iteration 53/110] TRAIN loss: 0.992\n",
      "[Iteration 54/110] TRAIN loss: 0.990\n",
      "[Iteration 55/110] TRAIN loss: 0.994\n",
      "[Epoch 5/10] TRAIN acc/loss: 0.958/0.994\n",
      "[Epoch 5/10] VAL   acc/loss: 0.955/0.992\n",
      "[Iteration 56/110] TRAIN loss: 0.993\n",
      "[Iteration 57/110] TRAIN loss: 0.991\n",
      "[Iteration 58/110] TRAIN loss: 0.991\n",
      "[Iteration 59/110] TRAIN loss: 0.990\n"
     ]
    }
   ],
   "source": [
    "model = DeepVesselNetFCN()\n",
    "model.to(device)\n",
    "\n",
    "optim_args_SGD = {\"lr\": 1e-2, \"weight_decay\": 0.001}\n",
    "optim_args_ADAM = {\"lr\": 1e-3, \"weight_decay\": 0.001}\n",
    "\n",
    "solver = Solver(optim_args=optim_args_SGD, optim=torch.optim.SGD)\n",
    "solver.train(model, train_loader, val_loader, log_nth=1, num_epochs=10)"
   ]
  },
  {
   "cell_type": "markdown",
   "metadata": {
    "pycharm": {
     "name": "#%% md\n"
    }
   },
   "source": [
    "Test network\n",
    "============"
   ]
  },
  {
   "cell_type": "code",
   "execution_count": null,
   "metadata": {
    "pycharm": {
     "is_executing": true,
     "name": "#%%\n"
    }
   },
   "outputs": [],
   "source": []
  },
  {
   "cell_type": "markdown",
   "metadata": {
    "pycharm": {
     "name": "#%% md\n"
    }
   },
   "source": [
    "Visualization of network outputs\n",
    "============\n"
   ]
  },
  {
   "cell_type": "code",
   "execution_count": null,
   "metadata": {
    "pycharm": {
     "is_executing": true,
     "name": "#%% \n"
    }
   },
   "outputs": [],
   "source": [
    "num_example_imgs = 3\n",
    "plt.figure(figsize=(15, 5 * num_example_imgs))\n",
    "for i, (inputs, targets) in enumerate(val_synthetic[:num_example_imgs]):\n",
    "    inputs, targets = inputs.to(device, dtype=torch.float), targets.to(device, dtype=torch.long)\n",
    "    \n",
    "    outputs = model.forward(inputs)\n",
    "    _, preds = torch.max(outputs, 1)\n",
    "\n",
    "    inputs, targets, preds = inputs.cpu().numpy(), targets.cpu().numpy(), preds.cpu().numpy()\n",
    "\n",
    "    # inputs\n",
    "    plt.subplot(num_example_imgs, 3, i * 3 + 1)\n",
    "    plt.axis('off')\n",
    "    plt.imshow(inputs[0,0,5])\n",
    "    if i == 0:\n",
    "        plt.title(\"Input image\")\n",
    "    \n",
    "    # target\n",
    "    plt.subplot(num_example_imgs, 3, i * 3 + 2)\n",
    "    plt.axis('off')\n",
    "    plt.imshow(targets[0,5])\n",
    "    if i == 0:\n",
    "        plt.title(\"Target image\")\n",
    "\n",
    "    # pred\n",
    "    plt.subplot(num_example_imgs, 3, i * 3 + 3)\n",
    "    plt.axis('off')\n",
    "    plt.imshow(pred[0,5])\n",
    "    if i == 0:\n",
    "        plt.title(\"Prediction image\")"
   ]
  },
  {
   "cell_type": "code",
   "execution_count": null,
   "metadata": {},
   "outputs": [],
   "source": []
  }
 ],
 "metadata": {
  "kernelspec": {
   "display_name": "Python 3",
   "language": "python",
   "name": "python3"
  },
  "language_info": {
   "codemirror_mode": {
    "name": "ipython",
    "version": 3
   },
   "file_extension": ".py",
   "mimetype": "text/x-python",
   "name": "python",
   "nbconvert_exporter": "python",
   "pygments_lexer": "ipython3",
   "version": "3.7.5"
  },
  "pycharm": {
   "stem_cell": {
    "cell_type": "raw",
    "metadata": {
     "collapsed": false
    },
    "source": []
   }
  }
 },
 "nbformat": 4,
 "nbformat_minor": 1
}
